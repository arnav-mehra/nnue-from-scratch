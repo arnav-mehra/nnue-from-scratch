{
 "cells": [
  {
   "cell_type": "code",
   "execution_count": 18,
   "id": "d83de420-03d2-4d60-88fc-84278d607194",
   "metadata": {},
   "outputs": [],
   "source": [
    "\n",
    "    # READ DATA\n"
   ]
  },
  {
   "cell_type": "code",
   "execution_count": 2,
   "id": "62032355-b4e7-48a3-839f-f4a27761d495",
   "metadata": {},
   "outputs": [
    {
     "name": "stderr",
     "output_type": "stream",
     "text": [
      "C:\\Users\\mehra\\.julia\\conda\\3\\lib\\site-packages\\dask\\dataframe\\_pyarrow_compat.py:23: UserWarning: You are using pyarrow version 11.0.0 which is known to be insecure. See https://www.cve.org/CVERecord?id=CVE-2023-47248 for further details. Please upgrade to pyarrow>=14.0.1 or install pyarrow-hotfix to patch your current version.\n",
      "  warnings.warn(\n"
     ]
    }
   ],
   "source": [
    "import chess\n",
    "import numpy as np\n",
    "import pandas as pd\n",
    "import numexpr as ne\n",
    "import swifter\n",
    "import statsmodels.api as sm\n",
    "import pylab"
   ]
  },
  {
   "cell_type": "code",
   "execution_count": 3,
   "id": "7b1e825a-bdee-4466-a856-c806afbe90d8",
   "metadata": {},
   "outputs": [
    {
     "data": {
      "text/html": [
       "<div>\n",
       "<style scoped>\n",
       "    .dataframe tbody tr th:only-of-type {\n",
       "        vertical-align: middle;\n",
       "    }\n",
       "\n",
       "    .dataframe tbody tr th {\n",
       "        vertical-align: top;\n",
       "    }\n",
       "\n",
       "    .dataframe thead th {\n",
       "        text-align: right;\n",
       "    }\n",
       "</style>\n",
       "<table border=\"1\" class=\"dataframe\">\n",
       "  <thead>\n",
       "    <tr style=\"text-align: right;\">\n",
       "      <th></th>\n",
       "      <th>FEN</th>\n",
       "      <th>Evaluation</th>\n",
       "    </tr>\n",
       "  </thead>\n",
       "  <tbody>\n",
       "    <tr>\n",
       "      <th>0</th>\n",
       "      <td>rnbqkb1r/pppppppp/B4n2/8/4P3/8/PPPP1PPP/RNBQK1...</td>\n",
       "      <td>-459</td>\n",
       "    </tr>\n",
       "    <tr>\n",
       "      <th>1</th>\n",
       "      <td>rnbqkb1r/pppppppp/5n2/1B6/4P3/8/PPPP1PPP/RNBQK...</td>\n",
       "      <td>-125</td>\n",
       "    </tr>\n",
       "    <tr>\n",
       "      <th>2</th>\n",
       "      <td>rnbqkbnr/p1pppppp/8/1p6/4P3/8/PPPP1PPP/RNBQKBN...</td>\n",
       "      <td>+198</td>\n",
       "    </tr>\n",
       "    <tr>\n",
       "      <th>3</th>\n",
       "      <td>rnbqkb1r/pppppppp/5n2/8/4P3/7N/PPPP1PPP/RNBQKB...</td>\n",
       "      <td>-155</td>\n",
       "    </tr>\n",
       "    <tr>\n",
       "      <th>4</th>\n",
       "      <td>rnbqkbnr/ppppp1pp/8/5p2/4P3/8/PPPP1PPP/RNBQKBN...</td>\n",
       "      <td>+209</td>\n",
       "    </tr>\n",
       "    <tr>\n",
       "      <th>5</th>\n",
       "      <td>rnbqkb1r/pppppppp/5n2/8/2B1P3/8/PPPP1PPP/RNBQK...</td>\n",
       "      <td>-101</td>\n",
       "    </tr>\n",
       "    <tr>\n",
       "      <th>6</th>\n",
       "      <td>rnbqkb1r/pppppppp/5n2/8/4P3/5N2/PPPP1PPP/RNBQK...</td>\n",
       "      <td>-105</td>\n",
       "    </tr>\n",
       "    <tr>\n",
       "      <th>7</th>\n",
       "      <td>rnbqkb1r/pppppppp/5n2/8/4P3/8/PPPPNPPP/RNBQKB1...</td>\n",
       "      <td>-136</td>\n",
       "    </tr>\n",
       "    <tr>\n",
       "      <th>8</th>\n",
       "      <td>rnbqkb1r/pppppppp/5n2/7Q/4P3/8/PPPP1PPP/RNB1KB...</td>\n",
       "      <td>-1262</td>\n",
       "    </tr>\n",
       "    <tr>\n",
       "      <th>9</th>\n",
       "      <td>rnbqkb1r/pppppppp/5n2/8/4P3/8/PPPPBPPP/RNBQK1N...</td>\n",
       "      <td>-117</td>\n",
       "    </tr>\n",
       "  </tbody>\n",
       "</table>\n",
       "</div>"
      ],
      "text/plain": [
       "                                                 FEN Evaluation\n",
       "0  rnbqkb1r/pppppppp/B4n2/8/4P3/8/PPPP1PPP/RNBQK1...       -459\n",
       "1  rnbqkb1r/pppppppp/5n2/1B6/4P3/8/PPPP1PPP/RNBQK...       -125\n",
       "2  rnbqkbnr/p1pppppp/8/1p6/4P3/8/PPPP1PPP/RNBQKBN...       +198\n",
       "3  rnbqkb1r/pppppppp/5n2/8/4P3/7N/PPPP1PPP/RNBQKB...       -155\n",
       "4  rnbqkbnr/ppppp1pp/8/5p2/4P3/8/PPPP1PPP/RNBQKBN...       +209\n",
       "5  rnbqkb1r/pppppppp/5n2/8/2B1P3/8/PPPP1PPP/RNBQK...       -101\n",
       "6  rnbqkb1r/pppppppp/5n2/8/4P3/5N2/PPPP1PPP/RNBQK...       -105\n",
       "7  rnbqkb1r/pppppppp/5n2/8/4P3/8/PPPPNPPP/RNBQKB1...       -136\n",
       "8  rnbqkb1r/pppppppp/5n2/7Q/4P3/8/PPPP1PPP/RNB1KB...      -1262\n",
       "9  rnbqkb1r/pppppppp/5n2/8/4P3/8/PPPPBPPP/RNBQK1N...       -117"
      ]
     },
     "execution_count": 3,
     "metadata": {},
     "output_type": "execute_result"
    }
   ],
   "source": [
    "df = pd.read_csv(\"./random_evals.csv\")\n",
    "df.head(10)"
   ]
  },
  {
   "cell_type": "code",
   "execution_count": 6,
   "id": "fa2612ee-43d4-4251-8d71-6264afae734a",
   "metadata": {},
   "outputs": [],
   "source": [
    "\n",
    "    # PROCESS EVAL\n"
   ]
  },
  {
   "cell_type": "code",
   "execution_count": 7,
   "id": "1e9b7828-b758-4492-be24-244bea6dfa4c",
   "metadata": {},
   "outputs": [],
   "source": [
    "df['EvaluationStr'] = df['Evaluation'].astype(str)"
   ]
  },
  {
   "cell_type": "code",
   "execution_count": 8,
   "id": "3791c367-7cc9-4457-9bd6-c431d6c35b64",
   "metadata": {},
   "outputs": [],
   "source": [
    "df.loc[df['EvaluationStr'].str.contains(\"#-\", na=False), 'EvaluationStr'] = -31800\n",
    "df.loc[df['EvaluationStr'].str.contains(\"#+\", na=False), 'EvaluationStr'] = 31800"
   ]
  },
  {
   "cell_type": "code",
   "execution_count": 9,
   "id": "6419f68f-bf41-4faa-8ebd-153117e56a24",
   "metadata": {},
   "outputs": [],
   "source": [
    "df['Evaluation'] = df['EvaluationStr'].astype(int) / 100"
   ]
  },
  {
   "cell_type": "code",
   "execution_count": 10,
   "id": "98eed6df-815b-40ca-a017-f495bf210249",
   "metadata": {},
   "outputs": [],
   "source": [
    "\n",
    "    # CONVERT EVAL to WIN PROB\n"
   ]
  },
  {
   "cell_type": "code",
   "execution_count": 11,
   "id": "e13dca7b-a9fa-454e-9e9e-46d9f02d0592",
   "metadata": {},
   "outputs": [],
   "source": [
    "def sigmoid(x):\n",
    "    return 1. / (1. + np.exp(-x))\n",
    "def sigmoid_derivative(x):\n",
    "    s = sigmoid(x)\n",
    "    return s * (1. - s)\n",
    "\n",
    "def chessmoid(x):\n",
    "    return sigmoid(0.9 * x)\n",
    "def chessmoid_derivative(x):\n",
    "    # chessmoid'(x) = sigmoid'(0.9 * x) * 0.9\n",
    "    return sigmoid_derivative(0.9 * x) * 0.9"
   ]
  },
  {
   "cell_type": "code",
   "execution_count": 12,
   "id": "12728aa3-30fa-4fd4-ab6b-bd57a2fccd0e",
   "metadata": {},
   "outputs": [],
   "source": [
    "df['Prob'] = np.vectorize(chessmoid)(df['Evaluation'])"
   ]
  },
  {
   "cell_type": "code",
   "execution_count": 14,
   "id": "d6261323-9162-4356-9ec3-5dd4a6728ad4",
   "metadata": {},
   "outputs": [
    {
     "data": {
      "image/png": "[encoded data removed]",
      "text/plain": [
       "<Figure size 640x480 with 1 Axes>"
      ]
     },
     "metadata": {},
     "output_type": "display_data"
    }
   ],
   "source": [
    "# u = np.mean(df['Evaluation'])\n",
    "# o = np.std(df['Evaluation'])\n",
    "tr = df['Prob'] - 0.5\n",
    "\n",
    "sm.qqplot(tr, line='45')\n",
    "pylab.show()"
   ]
  },
  {
   "cell_type": "code",
   "execution_count": 15,
   "id": "7f501e29-b74c-4f3d-b227-a5253fb0849e",
   "metadata": {},
   "outputs": [],
   "source": [
    "\n",
    "    # PARSE BOARD\n"
   ]
  },
  {
   "cell_type": "code",
   "execution_count": 16,
   "id": "9e9d887c-4654-4ec4-909b-332297f39807",
   "metadata": {},
   "outputs": [],
   "source": [
    "def fen_to_board(x):\n",
    "    return chess.Board(x)\n",
    "\n",
    "def board_to_bools(board):\n",
    "    arr = np.zeros(389, dtype=int)\n",
    "    idx = 0\n",
    "\n",
    "    for pc in range(1, 6 + 1):\n",
    "        BB_B = int(board.pieces(pc, chess.BLACK))\n",
    "        BB_W = int(board.pieces(pc, chess.WHITE))\n",
    "        for i in range(0, 64):\n",
    "            arr[idx + i] = ((BB_W >> i) & 1) - ((BB_B >> (i ^ 56)) & 1)\n",
    "        idx += 64\n",
    "\n",
    "    arr[idx + 0] = bool(board.castling_rights & chess.BB_H1)\n",
    "    arr[idx + 1] = bool(board.castling_rights & chess.BB_A1)\n",
    "    arr[idx + 2] = bool(board.castling_rights & chess.BB_H8)\n",
    "    arr[idx + 3] = bool(board.castling_rights & chess.BB_A8)\n",
    "    arr[idx + 4] = board.turn\n",
    "    \n",
    "    return arr\n",
    "\n",
    "def board_to_hist(board):\n",
    "    arr = np.zeros(5, dtype=int)\n",
    "    idx = 0\n",
    "\n",
    "    for pc in range(1, 5 + 1):\n",
    "        BB_B = len(board.pieces(pc, chess.BLACK))\n",
    "        BB_W = len(board.pieces(pc, chess.WHITE))\n",
    "        arr[idx] = BB_W - BB_B\n",
    "        idx += 1\n",
    "    \n",
    "    return arr"
   ]
  },
  {
   "cell_type": "code",
   "execution_count": null,
   "id": "0a0c395f-4ea5-443b-bf81-03e202bcebb2",
   "metadata": {},
   "outputs": [],
   "source": [
    "df['Board'] = df['FEN'].swifter.apply(fen_to_board)"
   ]
  },
  {
   "cell_type": "code",
   "execution_count": null,
   "id": "7aa83e94-c5e4-42b0-962b-71283293358c",
   "metadata": {},
   "outputs": [],
   "source": [
    "df['Bits'] = df['Board'].swifter.apply(board_to_bools)"
   ]
  },
  {
   "cell_type": "code",
   "execution_count": null,
   "id": "d968d816-2220-46b2-8d24-74e00591b63b",
   "metadata": {},
   "outputs": [],
   "source": [
    "df['Hist'] = df['Board'].swifter.apply(board_to_hist)"
   ]
  },
  {
   "cell_type": "code",
   "execution_count": null,
   "id": "9bb163d1-bd84-4c34-8b3b-73edca0ac2a1",
   "metadata": {},
   "outputs": [],
   "source": [
    "df_saved = df.copy()\n",
    "df_saved = df_saved.drop(columns=['Board'])\n",
    "df_saved.to_parquet('random_evals_processed.parquet')"
   ]
  }
 ],
 "metadata": {
  "kernelspec": {
   "display_name": "Python 3 (ipykernel)",
   "language": "python",
   "name": "python3"
  },
  "language_info": {
   "codemirror_mode": {
    "name": "ipython",
    "version": 3
   },
   "file_extension": ".py",
   "mimetype": "text/x-python",
   "name": "python",
   "nbconvert_exporter": "python",
   "pygments_lexer": "ipython3",
   "version": "3.9.18"
  }
 },
 "nbformat": 4,
 "nbformat_minor": 5
}
