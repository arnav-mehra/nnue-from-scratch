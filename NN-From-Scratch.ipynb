{
 "cells": [
  {
   "cell_type": "code",
   "execution_count": 146,
   "metadata": {},
   "outputs": [],
   "source": [
    "import chess\n",
    "import numpy as np\n",
    "import pandas as pd\n",
    "import numexpr as ne\n",
    "import swifter"
   ]
  },
  {
   "cell_type": "code",
   "execution_count": 147,
   "metadata": {},
   "outputs": [
    {
     "data": {
      "text/html": [
       "<div>\n",
       "<style scoped>\n",
       "    .dataframe tbody tr th:only-of-type {\n",
       "        vertical-align: middle;\n",
       "    }\n",
       "\n",
       "    .dataframe tbody tr th {\n",
       "        vertical-align: top;\n",
       "    }\n",
       "\n",
       "    .dataframe thead th {\n",
       "        text-align: right;\n",
       "    }\n",
       "</style>\n",
       "<table border=\"1\" class=\"dataframe\">\n",
       "  <thead>\n",
       "    <tr style=\"text-align: right;\">\n",
       "      <th></th>\n",
       "      <th>FEN</th>\n",
       "      <th>Evaluation</th>\n",
       "    </tr>\n",
       "  </thead>\n",
       "  <tbody>\n",
       "    <tr>\n",
       "      <th>0</th>\n",
       "      <td>rnbqkb1r/pppppppp/B4n2/8/4P3/8/PPPP1PPP/RNBQK1...</td>\n",
       "      <td>-459</td>\n",
       "    </tr>\n",
       "    <tr>\n",
       "      <th>1</th>\n",
       "      <td>rnbqkb1r/pppppppp/5n2/1B6/4P3/8/PPPP1PPP/RNBQK...</td>\n",
       "      <td>-125</td>\n",
       "    </tr>\n",
       "    <tr>\n",
       "      <th>2</th>\n",
       "      <td>rnbqkbnr/p1pppppp/8/1p6/4P3/8/PPPP1PPP/RNBQKBN...</td>\n",
       "      <td>+198</td>\n",
       "    </tr>\n",
       "    <tr>\n",
       "      <th>3</th>\n",
       "      <td>rnbqkb1r/pppppppp/5n2/8/4P3/7N/PPPP1PPP/RNBQKB...</td>\n",
       "      <td>-155</td>\n",
       "    </tr>\n",
       "    <tr>\n",
       "      <th>4</th>\n",
       "      <td>rnbqkbnr/ppppp1pp/8/5p2/4P3/8/PPPP1PPP/RNBQKBN...</td>\n",
       "      <td>+209</td>\n",
       "    </tr>\n",
       "    <tr>\n",
       "      <th>5</th>\n",
       "      <td>rnbqkb1r/pppppppp/5n2/8/2B1P3/8/PPPP1PPP/RNBQK...</td>\n",
       "      <td>-101</td>\n",
       "    </tr>\n",
       "    <tr>\n",
       "      <th>6</th>\n",
       "      <td>rnbqkb1r/pppppppp/5n2/8/4P3/5N2/PPPP1PPP/RNBQK...</td>\n",
       "      <td>-105</td>\n",
       "    </tr>\n",
       "    <tr>\n",
       "      <th>7</th>\n",
       "      <td>rnbqkb1r/pppppppp/5n2/8/4P3/8/PPPPNPPP/RNBQKB1...</td>\n",
       "      <td>-136</td>\n",
       "    </tr>\n",
       "    <tr>\n",
       "      <th>8</th>\n",
       "      <td>rnbqkb1r/pppppppp/5n2/7Q/4P3/8/PPPP1PPP/RNB1KB...</td>\n",
       "      <td>-1262</td>\n",
       "    </tr>\n",
       "    <tr>\n",
       "      <th>9</th>\n",
       "      <td>rnbqkb1r/pppppppp/5n2/8/4P3/8/PPPPBPPP/RNBQK1N...</td>\n",
       "      <td>-117</td>\n",
       "    </tr>\n",
       "  </tbody>\n",
       "</table>\n",
       "</div>"
      ],
      "text/plain": [
       "                                                 FEN Evaluation\n",
       "0  rnbqkb1r/pppppppp/B4n2/8/4P3/8/PPPP1PPP/RNBQK1...       -459\n",
       "1  rnbqkb1r/pppppppp/5n2/1B6/4P3/8/PPPP1PPP/RNBQK...       -125\n",
       "2  rnbqkbnr/p1pppppp/8/1p6/4P3/8/PPPP1PPP/RNBQKBN...       +198\n",
       "3  rnbqkb1r/pppppppp/5n2/8/4P3/7N/PPPP1PPP/RNBQKB...       -155\n",
       "4  rnbqkbnr/ppppp1pp/8/5p2/4P3/8/PPPP1PPP/RNBQKBN...       +209\n",
       "5  rnbqkb1r/pppppppp/5n2/8/2B1P3/8/PPPP1PPP/RNBQK...       -101\n",
       "6  rnbqkb1r/pppppppp/5n2/8/4P3/5N2/PPPP1PPP/RNBQK...       -105\n",
       "7  rnbqkb1r/pppppppp/5n2/8/4P3/8/PPPPNPPP/RNBQKB1...       -136\n",
       "8  rnbqkb1r/pppppppp/5n2/7Q/4P3/8/PPPP1PPP/RNB1KB...      -1262\n",
       "9  rnbqkb1r/pppppppp/5n2/8/4P3/8/PPPPBPPP/RNBQK1N...       -117"
      ]
     },
     "execution_count": 147,
     "metadata": {},
     "output_type": "execute_result"
    }
   ],
   "source": [
    "df = pd.read_csv(\"./random_evals.csv\")\n",
    "df.head(10)"
   ]
  },
  {
   "cell_type": "code",
   "execution_count": 148,
   "metadata": {},
   "outputs": [],
   "source": [
    "\n",
    "    # PRE-PROCESSING\n"
   ]
  },
  {
   "cell_type": "code",
   "execution_count": 149,
   "metadata": {
    "execution": {
     "iopub.execute_input": "2023-07-14T16:12:16.402230Z",
     "iopub.status.busy": "2023-07-14T16:12:16.401861Z",
     "iopub.status.idle": "2023-07-14T16:12:16.441382Z",
     "shell.execute_reply": "2023-07-14T16:12:16.440063Z",
     "shell.execute_reply.started": "2023-07-14T16:12:16.402205Z"
    }
   },
   "outputs": [],
   "source": [
    "df['Evaluation'] = df['Evaluation'].astype(str)"
   ]
  },
  {
   "cell_type": "code",
   "execution_count": 150,
   "metadata": {
    "execution": {
     "iopub.execute_input": "2023-07-14T16:13:07.803602Z",
     "iopub.status.busy": "2023-07-14T16:13:07.803205Z",
     "iopub.status.idle": "2023-07-14T16:13:08.798630Z",
     "shell.execute_reply": "2023-07-14T16:13:08.797186Z",
     "shell.execute_reply.started": "2023-07-14T16:13:07.803568Z"
    }
   },
   "outputs": [],
   "source": [
    "df.loc[df['Evaluation'].str.contains(\"#-\", na=False), 'Evaluation'] = -2000\n",
    "df.loc[df['Evaluation'].str.contains(\"#+\", na=False), 'Evaluation'] = 2000"
   ]
  },
  {
   "cell_type": "code",
   "execution_count": 151,
   "metadata": {
    "execution": {
     "iopub.execute_input": "2023-07-14T16:13:12.314558Z",
     "iopub.status.busy": "2023-07-14T16:13:12.314155Z",
     "iopub.status.idle": "2023-07-14T16:13:12.383841Z",
     "shell.execute_reply": "2023-07-14T16:13:12.383002Z",
     "shell.execute_reply.started": "2023-07-14T16:13:12.314528Z"
    }
   },
   "outputs": [],
   "source": [
    "df['Evaluation'] = df['Evaluation'].astype(int) / 100."
   ]
  },
  {
   "cell_type": "code",
   "execution_count": 152,
   "metadata": {},
   "outputs": [],
   "source": [
    "def sigmoid(x):\n",
    "    return 1. / (1. + np.exp(-x))\n",
    "def sigmoid_derivative(x):\n",
    "    s = sigmoid(x)\n",
    "    return s * (1. - s)\n",
    "\n",
    "def chessmoid(x):\n",
    "    return sigmoid(0.9 * x)\n",
    "def chessmoid_derivative(x):\n",
    "    # chessmoid'(x) = sigmoid'(0.9 * x) * 0.9\n",
    "    return sigmoid_derivative(0.9 * x) * 0.9"
   ]
  },
  {
   "cell_type": "code",
   "execution_count": 153,
   "metadata": {
    "execution": {
     "iopub.execute_input": "2023-07-14T16:13:15.384877Z",
     "iopub.status.busy": "2023-07-14T16:13:15.384524Z",
     "iopub.status.idle": "2023-07-14T16:13:15.400769Z",
     "shell.execute_reply": "2023-07-14T16:13:15.399234Z",
     "shell.execute_reply.started": "2023-07-14T16:13:15.384851Z"
    }
   },
   "outputs": [],
   "source": [
    "df['Prob'] = np.vectorize(chessmoid)(df['Evaluation'])"
   ]
  },
  {
   "cell_type": "code",
   "execution_count": 154,
   "metadata": {},
   "outputs": [],
   "source": [
    "def fen_to_board(x):\n",
    "    return chess.Board(fen=x)"
   ]
  },
  {
   "cell_type": "code",
   "execution_count": 155,
   "metadata": {},
   "outputs": [
    {
     "data": {
      "application/vnd.jupyter.widget-view+json": {
       "model_id": "013b9aee1a0f44a89b8b73d97d11e23d",
       "version_major": 2,
       "version_minor": 0
      },
      "text/plain": [
       "Pandas Apply:   0%|          | 0/1000273 [00:00<?, ?it/s]"
      ]
     },
     "metadata": {},
     "output_type": "display_data"
    }
   ],
   "source": [
    "df['Board'] = df['FEN'].swifter.apply(fen_to_board)"
   ]
  },
  {
   "cell_type": "code",
   "execution_count": 156,
   "metadata": {},
   "outputs": [],
   "source": [
    "def board_to_bools(board):\n",
    "    arr = np.zeros(784 + 5, dtype=bool)\n",
    "    idx = 0\n",
    "\n",
    "    for col in range(0, 2):\n",
    "        for pc in range(1, 6 + 1):\n",
    "            BB = int(board.pieces(pc, col))\n",
    "#             arr[(col) * 6 + (pc - 1)] += bin(BB).count(\"1\")\n",
    "            for i in range(0, 64):\n",
    "                arr[idx] = (BB >> i) & 1\n",
    "                idx += 1\n",
    "\n",
    "    arr[idx] = (board.castling_rights & chess.BB_H1) != 0\n",
    "    idx += 1\n",
    "    arr[idx] = (board.castling_rights & chess.BB_A1) != 0\n",
    "    idx += 1\n",
    "    arr[idx] = (board.castling_rights & chess.BB_H8) != 0\n",
    "    idx += 1\n",
    "    arr[idx] = (board.castling_rights & chess.BB_A8) != 0\n",
    "    idx += 1\n",
    "    arr[idx] = board.turn\n",
    "#     arr[5] = ((board.castling_rights & chess.BB_H1) != 0)\\\n",
    "#            + ((board.castling_rights & chess.BB_A1) != 0)\n",
    "#     arr[11] = ((board.castling_rights & chess.BB_H8) != 0)\\\n",
    "#             + ((board.castling_rights & chess.BB_A8) != 0)\n",
    "#     arr[12] = board.turn\n",
    "    \n",
    "    return arr"
   ]
  },
  {
   "cell_type": "code",
   "execution_count": 157,
   "metadata": {},
   "outputs": [
    {
     "data": {
      "application/vnd.jupyter.widget-view+json": {
       "model_id": "dd1e083a88ec4b2383a564b1a5dde7bb",
       "version_major": 2,
       "version_minor": 0
      },
      "text/plain": [
       "Pandas Apply:   0%|          | 0/1000273 [00:00<?, ?it/s]"
      ]
     },
     "metadata": {},
     "output_type": "display_data"
    }
   ],
   "source": [
    "df['Bits'] = df['Board'].swifter.apply(board_to_bools)"
   ]
  },
  {
   "cell_type": "code",
   "execution_count": 158,
   "metadata": {},
   "outputs": [],
   "source": [
    "mask = np.random.rand(len(df)) < 0.8\n",
    "train = df[mask]\n",
    "test = df[~mask]"
   ]
  },
  {
   "cell_type": "code",
   "execution_count": 159,
   "metadata": {},
   "outputs": [],
   "source": [
    "\n",
    "    # LINEAR REGRESSION\n"
   ]
  },
  {
   "cell_type": "code",
   "execution_count": 160,
   "metadata": {},
   "outputs": [],
   "source": [
    "from sklearn.linear_model import LinearRegression\n",
    "X = list(train['Bits'])\n",
    "y = list(train['Prob'])\n",
    "reg = LinearRegression().fit(X, y)"
   ]
  },
  {
   "cell_type": "code",
   "execution_count": 161,
   "metadata": {},
   "outputs": [
    {
     "data": {
      "text/plain": [
       "0.5972420069466631"
      ]
     },
     "execution_count": 161,
     "metadata": {},
     "output_type": "execute_result"
    }
   ],
   "source": [
    "X_test = list(test['Bits'])\n",
    "y_test = list(test['Prob'])\n",
    "reg.score(X_test, y_test)"
   ]
  },
  {
   "cell_type": "code",
   "execution_count": 162,
   "metadata": {},
   "outputs": [],
   "source": [
    "import sys\n",
    "def get_val(col, pc):\n",
    "    pc_col = 6 * col + (pc - 1)\n",
    "    idx_range = range(8, 56) if pc == chess.PAWN else range(0, 64)\n",
    "    n = 48 if pc == chess.PAWN else 64\n",
    "    v = sum(reg.coef_[64*pc_col:64*(pc_col+1)][idx_range]) / n\n",
    "    return v\n",
    "\n",
    "def norm_val(v):\n",
    "    pv = get_val(chess.WHITE, chess.PAWN)\n",
    "    return v / pv # 8 * (v - pv) / (qv - pv) + 1\n",
    "\n",
    "def get_norm_val(col, pc):\n",
    "    return norm_val(get_val(col, pc))\n",
    "\n",
    "def print_sqs(col, pc):\n",
    "    avg_val = get_norm_val(col, pc)\n",
    "    print(\"AVG VAL\", avg_val)\n",
    "    pc_col = 6 * col + (pc - 1)\n",
    "    arr = reg.coef_[ (64 * pc_col) : (64 * (pc_col + 1)) ]\n",
    "    arr = [ (norm_val(x) - avg_val) for x in arr ]\n",
    "    for i in range(0, 64):\n",
    "        print(int(arr[i] * 10) / 10, end=\"\\t\")\n",
    "        if i % 8 == 7:\n",
    "            print()"
   ]
  },
  {
   "cell_type": "code",
   "execution_count": 163,
   "metadata": {},
   "outputs": [
    {
     "name": "stdout",
     "output_type": "stream",
     "text": [
      "AVG VAL 1.0\n",
      "3244586406.3\t6086849979.7\t-2670689962.9\t4648553319.9\t4330894784.3\t-502560045.2\t16892744411.4\t-512620956.5\t\n",
      "-0.5\t0.0\t-0.3\t-0.9\t-0.4\t-0.5\t0.0\t-0.4\t\n",
      "-0.3\t0.0\t-0.1\t-0.5\t-0.3\t-0.3\t0.0\t-0.2\t\n",
      "-0.2\t0.0\t-0.1\t-0.2\t-0.2\t-0.7\t0.0\t0.0\t\n",
      "-0.1\t0.0\t0.0\t-0.3\t0.0\t-0.1\t0.3\t-0.3\t\n",
      "0.7\t0.6\t0.4\t0.0\t0.2\t0.6\t0.1\t-0.2\t\n",
      "1.6\t1.3\t1.7\t0.2\t0.0\t0.7\t0.1\t-0.8\t\n",
      "2254749952.7\t-2917295797.8\t4338594593.3\t-7273738524.1\t3695432816.6\t-11483320496.4\t-2809920138.7\t10378421661.0\t\n"
     ]
    }
   ],
   "source": [
    "print_sqs(chess.WHITE, chess.PAWN)"
   ]
  },
  {
   "cell_type": "code",
   "execution_count": 164,
   "metadata": {},
   "outputs": [],
   "source": [
    "\n",
    "    # NEURAL NETWORK\n"
   ]
  },
  {
   "cell_type": "code",
   "execution_count": 491,
   "metadata": {},
   "outputs": [],
   "source": [
    "class Activation:\n",
    "    def __init__(self, fn_name):\n",
    "        if fn_name == 'relu':\n",
    "            self.function   = lambda x : np.maximum(0, x)\n",
    "            self.derivative = lambda x : x >= 0\n",
    "\n",
    "        elif fn_name == 'relu_clamped':\n",
    "            self.function   = lambda x : np.clip(x, 0, 1)\n",
    "            self.derivative = lambda x : 0 <= x and x <= 1\n",
    "\n",
    "        elif fn_name == 'identity':\n",
    "            self.function   = lambda x : x\n",
    "            self.derivative = lambda x : 1\n",
    "\n",
    "        elif fn_name == 'sigmoid':\n",
    "            self.function   = sigmoid\n",
    "            self.derivative = sigmoid_derivative\n",
    "\n",
    "        elif fn_name == 'chessmoid':\n",
    "            self.function   = chessmoid\n",
    "            self.derivative = chessmoid_derivative\n",
    "\n",
    "        elif fn_name == 'exp_normalize':\n",
    "            # v_i = e^v_i / (e^v_i + c)\n",
    "            # dv_i = \n",
    "            self.function = lambda v : np.exp(v)\n",
    "            self.derivative = lambda v : np.exp(v)\n",
    "            return\n",
    "\n",
    "        else:\n",
    "            print(\"ERR: Unrecognized activation function\")\n",
    "\n",
    "        self.function   = np.vectorize(self.function)\n",
    "        self.derivative = np.vectorize(self.derivative)"
   ]
  },
  {
   "cell_type": "code",
   "execution_count": 492,
   "metadata": {},
   "outputs": [],
   "source": [
    "class Layer:\n",
    "    def __init__(self, inputs, outputs, activation_fn_name):\n",
    "        self.activation = Activation(activation_fn_name)\n",
    "        self.inputs = inputs\n",
    "        self.outputs = outputs\n",
    "        \n",
    "        max_weight = np.sqrt(2.0 / self.inputs)\n",
    "        self.A = np.random.rand(outputs, inputs) * max_weight\n",
    "        self.b = np.zeros((outputs, 1))\n",
    "\n",
    "        self.backups = []\n",
    "\n",
    "    def predict(self, x): # forward prop\n",
    "        x = np.array(x).reshape(self.inputs, 1)\n",
    "        y = np.matmul(self.A, x) + self.b # y = Ax + b\n",
    "        z = self.activation.function(y)   # z = f(y)\n",
    "\n",
    "        self.prev_x = x\n",
    "        self.prev_y = y\n",
    "        self.prev_z = z\n",
    "\n",
    "        return z        \n",
    "\n",
    "    def backprop(self, dC_dz): # backwards prop\n",
    "        # y_i = sum_j (A_ij * x_j) + b_i\n",
    "        # z_i = o(y_i)\n",
    "\n",
    "        # dC_i/dy_i = dC_i/dz_i * dz_i/dy_i = dC_i/dz_i * o'(y_i)\n",
    "        dC_dy = dC_dz * self.activation.derivative(self.prev_y)\n",
    "\n",
    "        # dC_i/db_i = dC_i/dy_i * dy_i/db_i = dC_i/dy_i * 1\n",
    "        dC_db = dC_dy\n",
    "\n",
    "        # dC_i/dA_ij = dC_i/dy_i * dy_i/dA_ij = dC_i/dy_i * x_j\n",
    "        dC_dA = np.empty((self.outputs, self.inputs))        \n",
    "        for r in range(0, self.outputs):\n",
    "            for c in range(0, self.inputs):\n",
    "                dC_dA[r][c] = dC_dy[r][0] * self.prev_x[c][0]\n",
    "\n",
    "        # dC_i/dx_i = dC_i/dy_i * dy_i/dx_i = dC_i/dy_i * A_ij\n",
    "        dC_dx = np.zeros((self.inputs, 1))\n",
    "        for c in range(0, self.inputs):\n",
    "            for r in range(0, self.outputs):\n",
    "                dC_dx[c][0] += dC_dy[r][0] * self.A[r][c]\n",
    "\n",
    "        return dC_db, dC_dA, dC_dx\n",
    "\n",
    "    def push_backup(self):\n",
    "        self.backups.append((\n",
    "            np.copy(self.A),\n",
    "            np.copy(self.b)\n",
    "        ))\n",
    "\n",
    "    def pop_backup(self, nParams):\n",
    "        (nA, nb) = self.backups.pop()\n",
    "        self.A = nA\n",
    "        self.b = nb"
   ]
  },
  {
   "cell_type": "code",
   "execution_count": 508,
   "metadata": {},
   "outputs": [],
   "source": [
    "class NeuralNetwork:\n",
    "    def __init__(self, layers):\n",
    "        self.layers = layers\n",
    "\n",
    "    def predict(self, x):\n",
    "        for layer in self.layers:\n",
    "            x = layer.predict(x) # pipe result to next layer\n",
    "        return x\n",
    "\n",
    "    def cost(self, x, s):\n",
    "        z = self.predict(x)\n",
    "        delta = z - s\n",
    "        delta = delta.T[0] # column vector -> array\n",
    "        return np.dot(delta, delta)\n",
    "\n",
    "    def backprop(self, x, s):\n",
    "        z = self.predict(x) # gets result and sets prev_x/y/z\n",
    "\n",
    "        delta = z - s\n",
    "        delta_arr = delta.T[0] # column vector -> array\n",
    "        C = np.dot(delta_arr, delta_arr)\n",
    "        dC = 0.0 - C\n",
    "        dC_dz = 2.0 * delta\n",
    "\n",
    "        adjustments = []\n",
    "        for layer in reversed(self.layers):\n",
    "            dC_db, dC_dA, dC_dx = layer.backprop(dC_dz)\n",
    "\n",
    "            db = np.divide(dC, dC_db, out = np.zeros_like(dC_db), where = dC_db != 0)\n",
    "            dA = np.divide(dC, dC_dA, out = np.zeros_like(dC_dA), where = dC_dA != 0)\n",
    "            adjustments.insert(0, [ db, dA ])\n",
    "\n",
    "            dC_dz = dC_dx # pipe to next layer\n",
    "\n",
    "        return adjustments\n",
    "\n",
    "    def process_batch(self, df, in_field, out_field):\n",
    "        n = len(df)\n",
    "\n",
    "        in_col = df.columns.get_loc(in_field)\n",
    "        out_col = df.columns.get_loc(out_field)\n",
    "        \n",
    "        results = df.swifter.progress_bar(False).apply(lambda r: self.backprop(r[in_col], r[out_col]), axis=1)\n",
    "        results = np.array(results)\n",
    "\n",
    "        total_adjs = results[0]\n",
    "        for ri in range(1, n):\n",
    "            res_adjs = results[ri]\n",
    "            for i, layer_adjs in enumerate(res_adjs):\n",
    "                for j, adj in enumerate(layer_adjs):\n",
    "                    total_adjs[i][j] += adj / n\n",
    "\n",
    "        return total_adjs\n",
    "\n",
    "    def batch_average_cost(self, inputs, solutions):\n",
    "        output = inputs.swifter.progress_bar(False).apply(self.predict) # predict batch\n",
    "        return np.average(np.power(2.0, output - solutions)) # diff w/ sols\n",
    "\n",
    "    def apply_adjustments(self, adjs, alpha):\n",
    "        for i, adj in enumerate(adjs):\n",
    "            layer = self.layers[i]\n",
    "            layer.b += alpha * adj[0]\n",
    "            layer.A += alpha * adj[1]\n",
    "\n",
    "    def push_backup(self):\n",
    "        for layer in self.layers:\n",
    "            layer.push_backup()\n",
    "\n",
    "    def pop_backup(self):\n",
    "        for layer in enumerate(self.layers):\n",
    "            layer.pop_backup()\n",
    "\n",
    "    def train(\n",
    "        self, \n",
    "        df, in_col, out_col,\n",
    "        batch_size = 1_000, alpha = 1.0e-2,\n",
    "        stopper = lambda err, i : i == 100\n",
    "    ):\n",
    "        i = 0\n",
    "\n",
    "        while True:\n",
    "            sample = df.sample(n = batch_size)\n",
    "            ins = sample[in_col]\n",
    "            outs = sample[out_col]\n",
    "            adjs = self.process_batch(sample, in_col, out_col)\n",
    "\n",
    "            err = self.batch_average_cost(ins, outs)\n",
    "            print(\"perror:\", err)\n",
    "\n",
    "            self.apply_adjustments(adjs, alpha)\n",
    "            err = self.batch_average_cost(ins, outs)\n",
    "            print(\"ferror:\", err)\n",
    "\n",
    "            i += 1\n",
    "            if stopper(err, i):\n",
    "                break"
   ]
  },
  {
   "cell_type": "code",
   "execution_count": 527,
   "metadata": {},
   "outputs": [],
   "source": [
    "nn = NeuralNetwork([\n",
    "    Layer(784 + 5, 1, 'identity'),\n",
    "#     Layer(10,  1, 'sigmoid')\n",
    "])"
   ]
  },
  {
   "cell_type": "code",
   "execution_count": 1,
   "metadata": {
    "scrolled": true
   },
   "outputs": [
    {
     "ename": "NameError",
     "evalue": "name 'nn' is not defined",
     "output_type": "error",
     "traceback": [
      "\u001b[1;31m---------------------------------------------------------------------------\u001b[0m",
      "\u001b[1;31mNameError\u001b[0m                                 Traceback (most recent call last)",
      "\u001b[1;32m~\\AppData\\Local\\Temp/ipykernel_23088/3081071856.py\u001b[0m in \u001b[0;36m<module>\u001b[1;34m\u001b[0m\n\u001b[1;32m----> 1\u001b[1;33m nn.train(\n\u001b[0m\u001b[0;32m      2\u001b[0m     \u001b[0mdf\u001b[0m \u001b[1;33m=\u001b[0m \u001b[0mdf\u001b[0m\u001b[1;33m,\u001b[0m \u001b[0min_col\u001b[0m \u001b[1;33m=\u001b[0m \u001b[1;34m'Bits'\u001b[0m\u001b[1;33m,\u001b[0m \u001b[0mout_col\u001b[0m \u001b[1;33m=\u001b[0m \u001b[1;34m'Evaluation'\u001b[0m\u001b[1;33m,\u001b[0m\u001b[1;33m\u001b[0m\u001b[1;33m\u001b[0m\u001b[0m\n\u001b[0;32m      3\u001b[0m     \u001b[0mbatch_size\u001b[0m \u001b[1;33m=\u001b[0m \u001b[1;36m200\u001b[0m\u001b[1;33m,\u001b[0m\u001b[1;33m\u001b[0m\u001b[1;33m\u001b[0m\u001b[0m\n\u001b[0;32m      4\u001b[0m     \u001b[0malpha\u001b[0m \u001b[1;33m=\u001b[0m \u001b[1;36m0.0001\u001b[0m\u001b[1;33m,\u001b[0m\u001b[1;33m\u001b[0m\u001b[1;33m\u001b[0m\u001b[0m\n\u001b[0;32m      5\u001b[0m     \u001b[0mstopper\u001b[0m \u001b[1;33m=\u001b[0m \u001b[1;32mlambda\u001b[0m \u001b[0merr\u001b[0m\u001b[1;33m,\u001b[0m \u001b[0mi\u001b[0m \u001b[1;33m:\u001b[0m \u001b[0merr\u001b[0m \u001b[1;33m<=\u001b[0m \u001b[1;36m0.13\u001b[0m\u001b[1;33m\u001b[0m\u001b[1;33m\u001b[0m\u001b[0m\n",
      "\u001b[1;31mNameError\u001b[0m: name 'nn' is not defined"
     ]
    }
   ],
   "source": [
    "nn.train(\n",
    "    df = df, in_col = 'Bits', out_col = 'Evaluation',\n",
    "    batch_size = 200,\n",
    "    alpha = 0.0001,\n",
    "    stopper = lambda err, i : err <= 0.13\n",
    ")"
   ]
  },
  {
   "cell_type": "code",
   "execution_count": 520,
   "metadata": {},
   "outputs": [
    {
     "name": "stderr",
     "output_type": "stream",
     "text": [
      "C:\\Users\\mehra\\AppData\\Local\\Temp/ipykernel_7008/2106382036.py:2: RuntimeWarning: overflow encountered in exp\n",
      "  return 1. / (1. + np.exp(-x))\n"
     ]
    },
    {
     "data": {
      "text/plain": [
       "array([0., 0., 0., ..., 0., 0., 0.])"
      ]
     },
     "execution_count": 520,
     "metadata": {},
     "output_type": "execute_result"
    }
   ],
   "source": [
    "np.vectorize(nn.predict)(df['Bits'])"
   ]
  },
  {
   "cell_type": "code",
   "execution_count": 514,
   "metadata": {},
   "outputs": [
    {
     "data": {
      "text/plain": [
       "array([[0.73101973]])"
      ]
     },
     "execution_count": 514,
     "metadata": {},
     "output_type": "execute_result"
    }
   ],
   "source": [
    "nn.batch_average_cost(df['Bits'], df['Prob'])"
   ]
  },
  {
   "cell_type": "code",
   "execution_count": 454,
   "metadata": {},
   "outputs": [
    {
     "data": {
      "text/plain": [
       "array([[0.36596498]])"
      ]
     },
     "execution_count": 454,
     "metadata": {},
     "output_type": "execute_result"
    }
   ],
   "source": [
    "np.average(np.abs(df['Prob'] - df['Preds']))"
   ]
  },
  {
   "cell_type": "code",
   "execution_count": 455,
   "metadata": {},
   "outputs": [
    {
     "data": {
      "text/plain": [
       "array([[0.42258878]])"
      ]
     },
     "execution_count": 455,
     "metadata": {},
     "output_type": "execute_result"
    }
   ],
   "source": [
    "np.median(np.abs(df['Prob'] - df['Preds']))"
   ]
  },
  {
   "cell_type": "code",
   "execution_count": 447,
   "metadata": {},
   "outputs": [
    {
     "data": {
      "application/vnd.jupyter.widget-view+json": {
       "model_id": "33f025249627485f9cd93b707aacb805",
       "version_major": 2,
       "version_minor": 0
      },
      "text/plain": [
       "Pandas Apply:   0%|          | 0/1000273 [00:00<?, ?it/s]"
      ]
     },
     "metadata": {},
     "output_type": "display_data"
    }
   ],
   "source": [
    "df['Preds'] = df['Bits'].swifter.apply(lambda x : nn.predict(x))"
   ]
  },
  {
   "cell_type": "code",
   "execution_count": 400,
   "metadata": {},
   "outputs": [
    {
     "data": {
      "text/html": [
       "<div>\n",
       "<style scoped>\n",
       "    .dataframe tbody tr th:only-of-type {\n",
       "        vertical-align: middle;\n",
       "    }\n",
       "\n",
       "    .dataframe tbody tr th {\n",
       "        vertical-align: top;\n",
       "    }\n",
       "\n",
       "    .dataframe thead th {\n",
       "        text-align: right;\n",
       "    }\n",
       "</style>\n",
       "<table border=\"1\" class=\"dataframe\">\n",
       "  <thead>\n",
       "    <tr style=\"text-align: right;\">\n",
       "      <th></th>\n",
       "      <th>FEN</th>\n",
       "      <th>Evaluation</th>\n",
       "      <th>Prob</th>\n",
       "      <th>Board</th>\n",
       "      <th>Bits</th>\n",
       "    </tr>\n",
       "  </thead>\n",
       "  <tbody>\n",
       "    <tr>\n",
       "      <th>0</th>\n",
       "      <td>rnbqkb1r/pppppppp/B4n2/8/4P3/8/PPPP1PPP/RNBQK1...</td>\n",
       "      <td>-4.59</td>\n",
       "      <td>0.015813</td>\n",
       "      <td>r n b q k b . r\\np p p p p p p p\\nB . . . . n ...</td>\n",
       "      <td>[False, False, False, False, False, False, Fal...</td>\n",
       "    </tr>\n",
       "    <tr>\n",
       "      <th>1</th>\n",
       "      <td>rnbqkb1r/pppppppp/5n2/1B6/4P3/8/PPPP1PPP/RNBQK...</td>\n",
       "      <td>-1.25</td>\n",
       "      <td>0.245085</td>\n",
       "      <td>r n b q k b . r\\np p p p p p p p\\n. . . . . n ...</td>\n",
       "      <td>[False, False, False, False, False, False, Fal...</td>\n",
       "    </tr>\n",
       "    <tr>\n",
       "      <th>2</th>\n",
       "      <td>rnbqkbnr/p1pppppp/8/1p6/4P3/8/PPPP1PPP/RNBQKBN...</td>\n",
       "      <td>1.98</td>\n",
       "      <td>0.855944</td>\n",
       "      <td>r n b q k b n r\\np . p p p p p p\\n. . . . . . ...</td>\n",
       "      <td>[False, False, False, False, False, False, Fal...</td>\n",
       "    </tr>\n",
       "    <tr>\n",
       "      <th>3</th>\n",
       "      <td>rnbqkb1r/pppppppp/5n2/8/4P3/7N/PPPP1PPP/RNBQKB...</td>\n",
       "      <td>-1.55</td>\n",
       "      <td>0.198611</td>\n",
       "      <td>r n b q k b . r\\np p p p p p p p\\n. . . . . n ...</td>\n",
       "      <td>[False, False, False, False, False, False, Fal...</td>\n",
       "    </tr>\n",
       "    <tr>\n",
       "      <th>4</th>\n",
       "      <td>rnbqkbnr/ppppp1pp/8/5p2/4P3/8/PPPP1PPP/RNBQKBN...</td>\n",
       "      <td>2.09</td>\n",
       "      <td>0.867726</td>\n",
       "      <td>r n b q k b n r\\np p p p p . p p\\n. . . . . . ...</td>\n",
       "      <td>[False, False, False, False, False, False, Fal...</td>\n",
       "    </tr>\n",
       "    <tr>\n",
       "      <th>...</th>\n",
       "      <td>...</td>\n",
       "      <td>...</td>\n",
       "      <td>...</td>\n",
       "      <td>...</td>\n",
       "      <td>...</td>\n",
       "    </tr>\n",
       "    <tr>\n",
       "      <th>1000268</th>\n",
       "      <td>r1b1k2r/p2p1pp1/4pb1p/qp6/NnP5/P7/4PPPP/1R1QKB...</td>\n",
       "      <td>-3.86</td>\n",
       "      <td>0.030061</td>\n",
       "      <td>r . b . k . . r\\np . . p . p p .\\n. . . . p b ...</td>\n",
       "      <td>[False, False, False, False, False, False, Fal...</td>\n",
       "    </tr>\n",
       "    <tr>\n",
       "      <th>1000269</th>\n",
       "      <td>r1b1k2r/p2p1pp1/1p2pb1p/q7/NnP5/P7/4PPPP/1R1QK...</td>\n",
       "      <td>2.55</td>\n",
       "      <td>0.908462</td>\n",
       "      <td>r . b . k . . r\\np . . p . p p .\\n. p . . p b ...</td>\n",
       "      <td>[False, False, False, False, False, False, Fal...</td>\n",
       "    </tr>\n",
       "    <tr>\n",
       "      <th>1000270</th>\n",
       "      <td>r1b1k2r/pp1p1pp1/q3pb1p/8/NnP5/P7/4PPPP/1R1QKB...</td>\n",
       "      <td>0.89</td>\n",
       "      <td>0.690188</td>\n",
       "      <td>r . b . k . . r\\np p . p . p p .\\nq . . . p b ...</td>\n",
       "      <td>[False, False, False, False, False, False, Fal...</td>\n",
       "    </tr>\n",
       "    <tr>\n",
       "      <th>1000271</th>\n",
       "      <td>r1b1k2r/pp1p1p2/4pbpp/q7/NnP5/P7/4PPPP/1R1QKBN...</td>\n",
       "      <td>3.33</td>\n",
       "      <td>0.952438</td>\n",
       "      <td>r . b . k . . r\\np p . p . p . .\\n. . . . p b ...</td>\n",
       "      <td>[False, False, False, False, False, False, Fal...</td>\n",
       "    </tr>\n",
       "    <tr>\n",
       "      <th>1000272</th>\n",
       "      <td>r1b1k2r/pp1p1pp1/4pb2/q6p/NnP5/P7/4PPPP/1R1QKB...</td>\n",
       "      <td>3.36</td>\n",
       "      <td>0.953647</td>\n",
       "      <td>r . b . k . . r\\np p . p . p p .\\n. . . . p b ...</td>\n",
       "      <td>[False, False, False, False, False, False, Fal...</td>\n",
       "    </tr>\n",
       "  </tbody>\n",
       "</table>\n",
       "<p>1000273 rows × 5 columns</p>\n",
       "</div>"
      ],
      "text/plain": [
       "                                                       FEN  Evaluation  \\\n",
       "0        rnbqkb1r/pppppppp/B4n2/8/4P3/8/PPPP1PPP/RNBQK1...       -4.59   \n",
       "1        rnbqkb1r/pppppppp/5n2/1B6/4P3/8/PPPP1PPP/RNBQK...       -1.25   \n",
       "2        rnbqkbnr/p1pppppp/8/1p6/4P3/8/PPPP1PPP/RNBQKBN...        1.98   \n",
       "3        rnbqkb1r/pppppppp/5n2/8/4P3/7N/PPPP1PPP/RNBQKB...       -1.55   \n",
       "4        rnbqkbnr/ppppp1pp/8/5p2/4P3/8/PPPP1PPP/RNBQKBN...        2.09   \n",
       "...                                                    ...         ...   \n",
       "1000268  r1b1k2r/p2p1pp1/4pb1p/qp6/NnP5/P7/4PPPP/1R1QKB...       -3.86   \n",
       "1000269  r1b1k2r/p2p1pp1/1p2pb1p/q7/NnP5/P7/4PPPP/1R1QK...        2.55   \n",
       "1000270  r1b1k2r/pp1p1pp1/q3pb1p/8/NnP5/P7/4PPPP/1R1QKB...        0.89   \n",
       "1000271  r1b1k2r/pp1p1p2/4pbpp/q7/NnP5/P7/4PPPP/1R1QKBN...        3.33   \n",
       "1000272  r1b1k2r/pp1p1pp1/4pb2/q6p/NnP5/P7/4PPPP/1R1QKB...        3.36   \n",
       "\n",
       "             Prob                                              Board  \\\n",
       "0        0.015813  r n b q k b . r\\np p p p p p p p\\nB . . . . n ...   \n",
       "1        0.245085  r n b q k b . r\\np p p p p p p p\\n. . . . . n ...   \n",
       "2        0.855944  r n b q k b n r\\np . p p p p p p\\n. . . . . . ...   \n",
       "3        0.198611  r n b q k b . r\\np p p p p p p p\\n. . . . . n ...   \n",
       "4        0.867726  r n b q k b n r\\np p p p p . p p\\n. . . . . . ...   \n",
       "...           ...                                                ...   \n",
       "1000268  0.030061  r . b . k . . r\\np . . p . p p .\\n. . . . p b ...   \n",
       "1000269  0.908462  r . b . k . . r\\np . . p . p p .\\n. p . . p b ...   \n",
       "1000270  0.690188  r . b . k . . r\\np p . p . p p .\\nq . . . p b ...   \n",
       "1000271  0.952438  r . b . k . . r\\np p . p . p . .\\n. . . . p b ...   \n",
       "1000272  0.953647  r . b . k . . r\\np p . p . p p .\\n. . . . p b ...   \n",
       "\n",
       "                                                      Bits  \n",
       "0        [False, False, False, False, False, False, Fal...  \n",
       "1        [False, False, False, False, False, False, Fal...  \n",
       "2        [False, False, False, False, False, False, Fal...  \n",
       "3        [False, False, False, False, False, False, Fal...  \n",
       "4        [False, False, False, False, False, False, Fal...  \n",
       "...                                                    ...  \n",
       "1000268  [False, False, False, False, False, False, Fal...  \n",
       "1000269  [False, False, False, False, False, False, Fal...  \n",
       "1000270  [False, False, False, False, False, False, Fal...  \n",
       "1000271  [False, False, False, False, False, False, Fal...  \n",
       "1000272  [False, False, False, False, False, False, Fal...  \n",
       "\n",
       "[1000273 rows x 5 columns]"
      ]
     },
     "execution_count": 400,
     "metadata": {},
     "output_type": "execute_result"
    }
   ],
   "source": [
    "df"
   ]
  },
  {
   "cell_type": "code",
   "execution_count": 110,
   "metadata": {},
   "outputs": [
    {
     "ename": "AttributeError",
     "evalue": "'Layer' object has no attribute 'push_backup'",
     "output_type": "error",
     "traceback": [
      "\u001b[1;31m---------------------------------------------------------------------------\u001b[0m",
      "\u001b[1;31mAttributeError\u001b[0m                            Traceback (most recent call last)",
      "\u001b[1;32m~\\AppData\\Local\\Temp/ipykernel_5004/1240527981.py\u001b[0m in \u001b[0;36m<module>\u001b[1;34m\u001b[0m\n\u001b[1;32m----> 1\u001b[1;33m \u001b[0mnn\u001b[0m\u001b[1;33m.\u001b[0m\u001b[0mpush_backup\u001b[0m\u001b[1;33m(\u001b[0m\u001b[1;33m)\u001b[0m\u001b[1;33m\u001b[0m\u001b[1;33m\u001b[0m\u001b[0m\n\u001b[0m",
      "\u001b[1;32m~\\AppData\\Local\\Temp/ipykernel_5004/401733371.py\u001b[0m in \u001b[0;36mpush_backup\u001b[1;34m(self)\u001b[0m\n\u001b[0;32m     58\u001b[0m     \u001b[1;32mdef\u001b[0m \u001b[0mpush_backup\u001b[0m\u001b[1;33m(\u001b[0m\u001b[0mself\u001b[0m\u001b[1;33m)\u001b[0m\u001b[1;33m:\u001b[0m\u001b[1;33m\u001b[0m\u001b[1;33m\u001b[0m\u001b[0m\n\u001b[0;32m     59\u001b[0m         \u001b[1;32mfor\u001b[0m \u001b[0mlayer\u001b[0m \u001b[1;32min\u001b[0m \u001b[0mself\u001b[0m\u001b[1;33m.\u001b[0m\u001b[0mlayers\u001b[0m\u001b[1;33m:\u001b[0m\u001b[1;33m\u001b[0m\u001b[1;33m\u001b[0m\u001b[0m\n\u001b[1;32m---> 60\u001b[1;33m             \u001b[0mlayer\u001b[0m\u001b[1;33m.\u001b[0m\u001b[0mpush_backup\u001b[0m\u001b[1;33m(\u001b[0m\u001b[1;33m)\u001b[0m\u001b[1;33m\u001b[0m\u001b[1;33m\u001b[0m\u001b[0m\n\u001b[0m\u001b[0;32m     61\u001b[0m \u001b[1;33m\u001b[0m\u001b[0m\n\u001b[0;32m     62\u001b[0m     \u001b[1;32mdef\u001b[0m \u001b[0mpop_backup\u001b[0m\u001b[1;33m(\u001b[0m\u001b[0mself\u001b[0m\u001b[1;33m)\u001b[0m\u001b[1;33m:\u001b[0m\u001b[1;33m\u001b[0m\u001b[1;33m\u001b[0m\u001b[0m\n",
      "\u001b[1;31mAttributeError\u001b[0m: 'Layer' object has no attribute 'push_backup'"
     ]
    }
   ],
   "source": [
    "nn.push_backup()"
   ]
  },
  {
   "cell_type": "code",
   "execution_count": 1130,
   "metadata": {},
   "outputs": [],
   "source": [
    "\n",
    "    # SCORE TO BEAT\n"
   ]
  },
  {
   "cell_type": "code",
   "execution_count": 1563,
   "metadata": {},
   "outputs": [
    {
     "data": {
      "text/plain": [
       "array([[0.1323163]])"
      ]
     },
     "execution_count": 1563,
     "metadata": {},
     "output_type": "execute_result"
    }
   ],
   "source": [
    "nn2 = NeuralNetwork([\n",
    "    Layer(784, 1, chessmoid_activation),\n",
    "])\n",
    "nn2.layers[0].A = np.array([reg.coef_])\n",
    "nn2.layers[0].b = np.array([[0.]])\n",
    "ins = np.array(df['Bits'])\n",
    "outs = np.array(df['Prob'])\n",
    "nn2.batch_average_cost(ins, outs)"
   ]
  },
  {
   "cell_type": "code",
   "execution_count": 1226,
   "metadata": {},
   "outputs": [],
   "source": [
    "\n",
    "    # COMPARE W/ SKLEARN\n"
   ]
  },
  {
   "cell_type": "code",
   "execution_count": 1537,
   "metadata": {},
   "outputs": [],
   "source": [
    "from sklearn.neural_network import MLPClassifier\n",
    "clf = MLPClassifier(solver='lbfgs', alpha=1e-5, hidden_layer_sizes=(2, 1), random_state=1)"
   ]
  },
  {
   "cell_type": "code",
   "execution_count": null,
   "metadata": {},
   "outputs": [],
   "source": [
    "ins = [[float(x) for x in ls] for ls in ins]\n",
    "outs = [float(x) for x in outs]"
   ]
  },
  {
   "cell_type": "code",
   "execution_count": 1556,
   "metadata": {},
   "outputs": [
    {
     "data": {
      "text/html": [
       "<style>#sk-container-id-1 {color: black;}#sk-container-id-1 pre{padding: 0;}#sk-container-id-1 div.sk-toggleable {background-color: white;}#sk-container-id-1 label.sk-toggleable__label {cursor: pointer;display: block;width: 100%;margin-bottom: 0;padding: 0.3em;box-sizing: border-box;text-align: center;}#sk-container-id-1 label.sk-toggleable__label-arrow:before {content: \"▸\";float: left;margin-right: 0.25em;color: #696969;}#sk-container-id-1 label.sk-toggleable__label-arrow:hover:before {color: black;}#sk-container-id-1 div.sk-estimator:hover label.sk-toggleable__label-arrow:before {color: black;}#sk-container-id-1 div.sk-toggleable__content {max-height: 0;max-width: 0;overflow: hidden;text-align: left;background-color: #f0f8ff;}#sk-container-id-1 div.sk-toggleable__content pre {margin: 0.2em;color: black;border-radius: 0.25em;background-color: #f0f8ff;}#sk-container-id-1 input.sk-toggleable__control:checked~div.sk-toggleable__content {max-height: 200px;max-width: 100%;overflow: auto;}#sk-container-id-1 input.sk-toggleable__control:checked~label.sk-toggleable__label-arrow:before {content: \"▾\";}#sk-container-id-1 div.sk-estimator input.sk-toggleable__control:checked~label.sk-toggleable__label {background-color: #d4ebff;}#sk-container-id-1 div.sk-label input.sk-toggleable__control:checked~label.sk-toggleable__label {background-color: #d4ebff;}#sk-container-id-1 input.sk-hidden--visually {border: 0;clip: rect(1px 1px 1px 1px);clip: rect(1px, 1px, 1px, 1px);height: 1px;margin: -1px;overflow: hidden;padding: 0;position: absolute;width: 1px;}#sk-container-id-1 div.sk-estimator {font-family: monospace;background-color: #f0f8ff;border: 1px dotted black;border-radius: 0.25em;box-sizing: border-box;margin-bottom: 0.5em;}#sk-container-id-1 div.sk-estimator:hover {background-color: #d4ebff;}#sk-container-id-1 div.sk-parallel-item::after {content: \"\";width: 100%;border-bottom: 1px solid gray;flex-grow: 1;}#sk-container-id-1 div.sk-label:hover label.sk-toggleable__label {background-color: #d4ebff;}#sk-container-id-1 div.sk-serial::before {content: \"\";position: absolute;border-left: 1px solid gray;box-sizing: border-box;top: 0;bottom: 0;left: 50%;z-index: 0;}#sk-container-id-1 div.sk-serial {display: flex;flex-direction: column;align-items: center;background-color: white;padding-right: 0.2em;padding-left: 0.2em;position: relative;}#sk-container-id-1 div.sk-item {position: relative;z-index: 1;}#sk-container-id-1 div.sk-parallel {display: flex;align-items: stretch;justify-content: center;background-color: white;position: relative;}#sk-container-id-1 div.sk-item::before, #sk-container-id-1 div.sk-parallel-item::before {content: \"\";position: absolute;border-left: 1px solid gray;box-sizing: border-box;top: 0;bottom: 0;left: 50%;z-index: -1;}#sk-container-id-1 div.sk-parallel-item {display: flex;flex-direction: column;z-index: 1;position: relative;background-color: white;}#sk-container-id-1 div.sk-parallel-item:first-child::after {align-self: flex-end;width: 50%;}#sk-container-id-1 div.sk-parallel-item:last-child::after {align-self: flex-start;width: 50%;}#sk-container-id-1 div.sk-parallel-item:only-child::after {width: 0;}#sk-container-id-1 div.sk-dashed-wrapped {border: 1px dashed gray;margin: 0 0.4em 0.5em 0.4em;box-sizing: border-box;padding-bottom: 0.4em;background-color: white;}#sk-container-id-1 div.sk-label label {font-family: monospace;font-weight: bold;display: inline-block;line-height: 1.2em;}#sk-container-id-1 div.sk-label-container {text-align: center;}#sk-container-id-1 div.sk-container {/* jupyter's `normalize.less` sets `[hidden] { display: none; }` but bootstrap.min.css set `[hidden] { display: none !important; }` so we also need the `!important` here to be able to override the default hidden behavior on the sphinx rendered scikit-learn.org. See: https://github.com/scikit-learn/scikit-learn/issues/21755 */display: inline-block !important;position: relative;}#sk-container-id-1 div.sk-text-repr-fallback {display: none;}</style><div id=\"sk-container-id-1\" class=\"sk-top-container\"><div class=\"sk-text-repr-fallback\"><pre>MLPClassifier(alpha=1e-05, hidden_layer_sizes=(5, 2), random_state=1,\n",
       "              solver=&#x27;lbfgs&#x27;)</pre><b>In a Jupyter environment, please rerun this cell to show the HTML representation or trust the notebook. <br />On GitHub, the HTML representation is unable to render, please try loading this page with nbviewer.org.</b></div><div class=\"sk-container\" hidden><div class=\"sk-item\"><div class=\"sk-estimator sk-toggleable\"><input class=\"sk-toggleable__control sk-hidden--visually\" id=\"sk-estimator-id-1\" type=\"checkbox\" checked><label for=\"sk-estimator-id-1\" class=\"sk-toggleable__label sk-toggleable__label-arrow\">MLPClassifier</label><div class=\"sk-toggleable__content\"><pre>MLPClassifier(alpha=1e-05, hidden_layer_sizes=(5, 2), random_state=1,\n",
       "              solver=&#x27;lbfgs&#x27;)</pre></div></div></div></div></div>"
      ],
      "text/plain": [
       "MLPClassifier(alpha=1e-05, hidden_layer_sizes=(5, 2), random_state=1,\n",
       "              solver='lbfgs')"
      ]
     },
     "execution_count": 1556,
     "metadata": {},
     "output_type": "execute_result"
    }
   ],
   "source": [
    "X = [[0., 0.], [1., 1.]]\n",
    "y = [0, 1]\n",
    "clf = MLPClassifier(solver='lbfgs', alpha=1e-5, hidden_layer_sizes=(5, 2), random_state=1)\n",
    "clf.fit(X, y)"
   ]
  },
  {
   "cell_type": "code",
   "execution_count": null,
   "metadata": {},
   "outputs": [],
   "source": [
    "\n",
    "    # MNIST\n"
   ]
  },
  {
   "cell_type": "code",
   "execution_count": 18,
   "metadata": {},
   "outputs": [],
   "source": [
    "mdf = pd.read_csv('./mnist_test.csv')"
   ]
  },
  {
   "cell_type": "code",
   "execution_count": 19,
   "metadata": {},
   "outputs": [
    {
     "data": {
      "text/html": [
       "<div>\n",
       "<style scoped>\n",
       "    .dataframe tbody tr th:only-of-type {\n",
       "        vertical-align: middle;\n",
       "    }\n",
       "\n",
       "    .dataframe tbody tr th {\n",
       "        vertical-align: top;\n",
       "    }\n",
       "\n",
       "    .dataframe thead th {\n",
       "        text-align: right;\n",
       "    }\n",
       "</style>\n",
       "<table border=\"1\" class=\"dataframe\">\n",
       "  <thead>\n",
       "    <tr style=\"text-align: right;\">\n",
       "      <th></th>\n",
       "      <th>label</th>\n",
       "      <th>1x1</th>\n",
       "      <th>1x2</th>\n",
       "      <th>1x3</th>\n",
       "      <th>1x4</th>\n",
       "      <th>1x5</th>\n",
       "      <th>1x6</th>\n",
       "      <th>1x7</th>\n",
       "      <th>1x8</th>\n",
       "      <th>1x9</th>\n",
       "      <th>...</th>\n",
       "      <th>28x19</th>\n",
       "      <th>28x20</th>\n",
       "      <th>28x21</th>\n",
       "      <th>28x22</th>\n",
       "      <th>28x23</th>\n",
       "      <th>28x24</th>\n",
       "      <th>28x25</th>\n",
       "      <th>28x26</th>\n",
       "      <th>28x27</th>\n",
       "      <th>28x28</th>\n",
       "    </tr>\n",
       "  </thead>\n",
       "  <tbody>\n",
       "    <tr>\n",
       "      <th>0</th>\n",
       "      <td>7</td>\n",
       "      <td>0</td>\n",
       "      <td>0</td>\n",
       "      <td>0</td>\n",
       "      <td>0</td>\n",
       "      <td>0</td>\n",
       "      <td>0</td>\n",
       "      <td>0</td>\n",
       "      <td>0</td>\n",
       "      <td>0</td>\n",
       "      <td>...</td>\n",
       "      <td>0</td>\n",
       "      <td>0</td>\n",
       "      <td>0</td>\n",
       "      <td>0</td>\n",
       "      <td>0</td>\n",
       "      <td>0</td>\n",
       "      <td>0</td>\n",
       "      <td>0</td>\n",
       "      <td>0</td>\n",
       "      <td>0</td>\n",
       "    </tr>\n",
       "    <tr>\n",
       "      <th>1</th>\n",
       "      <td>2</td>\n",
       "      <td>0</td>\n",
       "      <td>0</td>\n",
       "      <td>0</td>\n",
       "      <td>0</td>\n",
       "      <td>0</td>\n",
       "      <td>0</td>\n",
       "      <td>0</td>\n",
       "      <td>0</td>\n",
       "      <td>0</td>\n",
       "      <td>...</td>\n",
       "      <td>0</td>\n",
       "      <td>0</td>\n",
       "      <td>0</td>\n",
       "      <td>0</td>\n",
       "      <td>0</td>\n",
       "      <td>0</td>\n",
       "      <td>0</td>\n",
       "      <td>0</td>\n",
       "      <td>0</td>\n",
       "      <td>0</td>\n",
       "    </tr>\n",
       "    <tr>\n",
       "      <th>2</th>\n",
       "      <td>1</td>\n",
       "      <td>0</td>\n",
       "      <td>0</td>\n",
       "      <td>0</td>\n",
       "      <td>0</td>\n",
       "      <td>0</td>\n",
       "      <td>0</td>\n",
       "      <td>0</td>\n",
       "      <td>0</td>\n",
       "      <td>0</td>\n",
       "      <td>...</td>\n",
       "      <td>0</td>\n",
       "      <td>0</td>\n",
       "      <td>0</td>\n",
       "      <td>0</td>\n",
       "      <td>0</td>\n",
       "      <td>0</td>\n",
       "      <td>0</td>\n",
       "      <td>0</td>\n",
       "      <td>0</td>\n",
       "      <td>0</td>\n",
       "    </tr>\n",
       "    <tr>\n",
       "      <th>3</th>\n",
       "      <td>0</td>\n",
       "      <td>0</td>\n",
       "      <td>0</td>\n",
       "      <td>0</td>\n",
       "      <td>0</td>\n",
       "      <td>0</td>\n",
       "      <td>0</td>\n",
       "      <td>0</td>\n",
       "      <td>0</td>\n",
       "      <td>0</td>\n",
       "      <td>...</td>\n",
       "      <td>0</td>\n",
       "      <td>0</td>\n",
       "      <td>0</td>\n",
       "      <td>0</td>\n",
       "      <td>0</td>\n",
       "      <td>0</td>\n",
       "      <td>0</td>\n",
       "      <td>0</td>\n",
       "      <td>0</td>\n",
       "      <td>0</td>\n",
       "    </tr>\n",
       "    <tr>\n",
       "      <th>4</th>\n",
       "      <td>4</td>\n",
       "      <td>0</td>\n",
       "      <td>0</td>\n",
       "      <td>0</td>\n",
       "      <td>0</td>\n",
       "      <td>0</td>\n",
       "      <td>0</td>\n",
       "      <td>0</td>\n",
       "      <td>0</td>\n",
       "      <td>0</td>\n",
       "      <td>...</td>\n",
       "      <td>0</td>\n",
       "      <td>0</td>\n",
       "      <td>0</td>\n",
       "      <td>0</td>\n",
       "      <td>0</td>\n",
       "      <td>0</td>\n",
       "      <td>0</td>\n",
       "      <td>0</td>\n",
       "      <td>0</td>\n",
       "      <td>0</td>\n",
       "    </tr>\n",
       "  </tbody>\n",
       "</table>\n",
       "<p>5 rows × 785 columns</p>\n",
       "</div>"
      ],
      "text/plain": [
       "   label  1x1  1x2  1x3  1x4  1x5  1x6  1x7  1x8  1x9  ...  28x19  28x20  \\\n",
       "0      7    0    0    0    0    0    0    0    0    0  ...      0      0   \n",
       "1      2    0    0    0    0    0    0    0    0    0  ...      0      0   \n",
       "2      1    0    0    0    0    0    0    0    0    0  ...      0      0   \n",
       "3      0    0    0    0    0    0    0    0    0    0  ...      0      0   \n",
       "4      4    0    0    0    0    0    0    0    0    0  ...      0      0   \n",
       "\n",
       "   28x21  28x22  28x23  28x24  28x25  28x26  28x27  28x28  \n",
       "0      0      0      0      0      0      0      0      0  \n",
       "1      0      0      0      0      0      0      0      0  \n",
       "2      0      0      0      0      0      0      0      0  \n",
       "3      0      0      0      0      0      0      0      0  \n",
       "4      0      0      0      0      0      0      0      0  \n",
       "\n",
       "[5 rows x 785 columns]"
      ]
     },
     "execution_count": 19,
     "metadata": {},
     "output_type": "execute_result"
    }
   ],
   "source": [
    "mdf.head(5)"
   ]
  },
  {
   "cell_type": "code",
   "execution_count": 20,
   "metadata": {},
   "outputs": [],
   "source": [
    "def cols_to_img(row):\n",
    "    return np.array(row)[1:(28*28 + 1)]"
   ]
  },
  {
   "cell_type": "code",
   "execution_count": 21,
   "metadata": {
    "scrolled": true
   },
   "outputs": [
    {
     "data": {
      "application/vnd.jupyter.widget-view+json": {
       "model_id": "10934c0856f844d0840696372180e28d",
       "version_major": 2,
       "version_minor": 0
      },
      "text/plain": [
       "Pandas Apply:   0%|          | 0/10000 [00:00<?, ?it/s]"
      ]
     },
     "metadata": {},
     "output_type": "display_data"
    }
   ],
   "source": [
    "mdf['img'] = mdf.swifter.apply(cols_to_img, axis=1)"
   ]
  },
  {
   "cell_type": "code",
   "execution_count": 22,
   "metadata": {},
   "outputs": [],
   "source": [
    "def label_to_vec(label):\n",
    "    arr = np.zeros(10, dtype=float)\n",
    "    arr[int(label)] = 1.\n",
    "    return arr"
   ]
  },
  {
   "cell_type": "code",
   "execution_count": 23,
   "metadata": {},
   "outputs": [],
   "source": [
    "mdf['out'] = mdf['label'].apply(label_to_vec)"
   ]
  },
  {
   "cell_type": "code",
   "execution_count": 90,
   "metadata": {},
   "outputs": [],
   "source": [
    "mdf['out'] = mdf['out'].apply(lambda x : np.array([x]).T)\n",
    "mdf['img'] = mdf['img'].apply(lambda x : np.array([x]).T)"
   ]
  },
  {
   "cell_type": "code",
   "execution_count": 537,
   "metadata": {},
   "outputs": [],
   "source": [
    "mnn = NeuralNetwork([\n",
    "    Layer(784, 10, 'sigmoid')\n",
    "])"
   ]
  },
  {
   "cell_type": "code",
   "execution_count": 538,
   "metadata": {},
   "outputs": [
    {
     "data": {
      "text/plain": [
       "(10, 784)"
      ]
     },
     "execution_count": 538,
     "metadata": {},
     "output_type": "execute_result"
    }
   ],
   "source": [
    "mnn.backprop(mdf['img'][0], mdf['out'][0])[0][1].shape"
   ]
  },
  {
   "cell_type": "code",
   "execution_count": 539,
   "metadata": {},
   "outputs": [
    {
     "data": {
      "text/plain": [
       "array([[1.],\n",
       "       [1.],\n",
       "       [1.],\n",
       "       [1.],\n",
       "       [1.],\n",
       "       [1.],\n",
       "       [1.],\n",
       "       [1.],\n",
       "       [1.],\n",
       "       [1.]])"
      ]
     },
     "execution_count": 539,
     "metadata": {},
     "output_type": "execute_result"
    }
   ],
   "source": [
    "mnn.predict(mdf['img'][0])"
   ]
  },
  {
   "cell_type": "code",
   "execution_count": 540,
   "metadata": {
    "scrolled": true
   },
   "outputs": [
    {
     "name": "stdout",
     "output_type": "stream",
     "text": [
      "perror: [[1.94]\n",
      " [1.83]\n",
      " [1.89]\n",
      " [1.95]\n",
      " [1.86]\n",
      " [1.93]\n",
      " [1.87]\n",
      " [1.94]\n",
      " [1.88]\n",
      " [1.91]]\n",
      "ferror: [[1.94]\n",
      " [1.83]\n",
      " [1.89]\n",
      " [1.95]\n",
      " [1.86]\n",
      " [1.93]\n",
      " [1.87]\n",
      " [1.94]\n",
      " [1.88]\n",
      " [1.91]]\n",
      "perror: [[1.89]\n",
      " [1.88]\n",
      " [1.89]\n",
      " [1.89]\n",
      " [1.93]\n",
      " [1.87]\n",
      " [1.92]\n",
      " [1.89]\n",
      " [1.92]\n",
      " [1.92]]\n",
      "ferror: [[1.89]\n",
      " [1.88]\n",
      " [1.89]\n",
      " [1.89]\n",
      " [1.93]\n",
      " [1.87]\n",
      " [1.92]\n",
      " [1.89]\n",
      " [1.92]\n",
      " [1.92]]\n",
      "perror: [[1.9 ]\n",
      " [1.91]\n",
      " [1.96]\n",
      " [1.81]\n",
      " [1.89]\n",
      " [1.89]\n",
      " [1.92]\n",
      " [1.89]\n",
      " [1.95]\n",
      " [1.88]]\n",
      "ferror: [[1.9 ]\n",
      " [1.91]\n",
      " [1.96]\n",
      " [1.81]\n",
      " [1.89]\n",
      " [1.89]\n",
      " [1.92]\n",
      " [1.89]\n",
      " [1.95]\n",
      " [1.88]]\n",
      "perror: [[1.91]\n",
      " [1.84]\n",
      " [1.88]\n",
      " [1.92]\n",
      " [1.94]\n",
      " [1.9 ]\n",
      " [1.92]\n",
      " [1.88]\n",
      " [1.91]\n",
      " [1.9 ]]\n",
      "ferror: [[1.91]\n",
      " [1.84]\n",
      " [1.88]\n",
      " [1.92]\n",
      " [1.94]\n",
      " [1.9 ]\n",
      " [1.92]\n",
      " [1.88]\n",
      " [1.91]\n",
      " [1.9 ]]\n",
      "perror: [[1.94]\n",
      " [1.85]\n",
      " [1.88]\n",
      " [1.91]\n",
      " [1.91]\n",
      " [1.96]\n",
      " [1.92]\n",
      " [1.82]\n",
      " [1.84]\n",
      " [1.97]]\n",
      "ferror: [[1.94]\n",
      " [1.85]\n",
      " [1.88]\n",
      " [1.91]\n",
      " [1.91]\n",
      " [1.96]\n",
      " [1.92]\n",
      " [1.82]\n",
      " [1.84]\n",
      " [1.97]]\n",
      "perror: [[1.9 ]\n",
      " [1.95]\n",
      " [1.94]\n",
      " [1.86]\n",
      " [1.85]\n",
      " [1.95]\n",
      " [1.89]\n",
      " [1.94]\n",
      " [1.81]\n",
      " [1.91]]\n",
      "ferror: [[1.9 ]\n",
      " [1.95]\n",
      " [1.94]\n",
      " [1.86]\n",
      " [1.85]\n",
      " [1.95]\n",
      " [1.89]\n",
      " [1.94]\n",
      " [1.81]\n",
      " [1.91]]\n",
      "perror: [[1.89]\n",
      " [1.9 ]\n",
      " [1.88]\n",
      " [1.87]\n",
      " [1.89]\n",
      " [1.92]\n",
      " [1.89]\n",
      " [1.93]\n",
      " [1.92]\n",
      " [1.91]]\n",
      "ferror: [[1.89]\n",
      " [1.9 ]\n",
      " [1.88]\n",
      " [1.87]\n",
      " [1.89]\n",
      " [1.92]\n",
      " [1.89]\n",
      " [1.93]\n",
      " [1.92]\n",
      " [1.91]]\n",
      "perror: [[1.96]\n",
      " [1.89]\n",
      " [1.87]\n",
      " [1.94]\n",
      " [1.9 ]\n",
      " [1.92]\n",
      " [1.86]\n",
      " [1.84]\n",
      " [1.91]\n",
      " [1.91]]\n",
      "ferror: [[1.96]\n",
      " [1.89]\n",
      " [1.87]\n",
      " [1.94]\n",
      " [1.9 ]\n",
      " [1.92]\n",
      " [1.86]\n",
      " [1.84]\n",
      " [1.91]\n",
      " [1.91]]\n",
      "perror: [[1.93]\n",
      " [1.82]\n",
      " [1.89]\n",
      " [1.9 ]\n",
      " [1.9 ]\n",
      " [1.92]\n",
      " [1.93]\n",
      " [1.92]\n",
      " [1.9 ]\n",
      " [1.89]]\n",
      "ferror: [[1.93]\n",
      " [1.82]\n",
      " [1.89]\n",
      " [1.9 ]\n",
      " [1.9 ]\n",
      " [1.92]\n",
      " [1.93]\n",
      " [1.92]\n",
      " [1.9 ]\n",
      " [1.89]]\n",
      "perror: [[1.91]\n",
      " [1.92]\n",
      " [1.87]\n",
      " [1.87]\n",
      " [1.94]\n",
      " [1.86]\n",
      " [1.89]\n",
      " [1.93]\n",
      " [1.9 ]\n",
      " [1.91]]\n",
      "ferror: [[1.91]\n",
      " [1.92]\n",
      " [1.87]\n",
      " [1.87]\n",
      " [1.94]\n",
      " [1.86]\n",
      " [1.89]\n",
      " [1.93]\n",
      " [1.9 ]\n",
      " [1.91]]\n",
      "perror: [[1.9 ]\n",
      " [1.82]\n",
      " [1.95]\n",
      " [1.91]\n",
      " [1.91]\n",
      " [1.86]\n",
      " [1.9 ]\n",
      " [1.88]\n",
      " [1.92]\n",
      " [1.95]]\n",
      "ferror: [[1.9 ]\n",
      " [1.82]\n",
      " [1.95]\n",
      " [1.91]\n",
      " [1.91]\n",
      " [1.86]\n",
      " [1.9 ]\n",
      " [1.88]\n",
      " [1.92]\n",
      " [1.95]]\n",
      "perror: [[1.9 ]\n",
      " [1.9 ]\n",
      " [1.87]\n",
      " [1.92]\n",
      " [1.84]\n",
      " [1.96]\n",
      " [1.95]\n",
      " [1.93]\n",
      " [1.87]\n",
      " [1.86]]\n",
      "ferror: [[1.9 ]\n",
      " [1.9 ]\n",
      " [1.87]\n",
      " [1.92]\n",
      " [1.84]\n",
      " [1.96]\n",
      " [1.95]\n",
      " [1.93]\n",
      " [1.87]\n",
      " [1.86]]\n",
      "perror: [[1.93]\n",
      " [1.88]\n",
      " [1.93]\n",
      " [1.88]\n",
      " [1.88]\n",
      " [1.95]\n",
      " [1.91]\n",
      " [1.9 ]\n",
      " [1.89]\n",
      " [1.85]]\n",
      "ferror: [[1.93]\n",
      " [1.88]\n",
      " [1.93]\n",
      " [1.88]\n",
      " [1.88]\n",
      " [1.95]\n",
      " [1.91]\n",
      " [1.9 ]\n",
      " [1.89]\n",
      " [1.85]]\n",
      "perror: [[1.92]\n",
      " [1.88]\n",
      " [1.92]\n",
      " [1.85]\n",
      " [1.91]\n",
      " [1.89]\n",
      " [1.91]\n",
      " [1.94]\n",
      " [1.89]\n",
      " [1.89]]\n",
      "ferror: [[1.92]\n",
      " [1.88]\n",
      " [1.92]\n",
      " [1.85]\n",
      " [1.91]\n",
      " [1.89]\n",
      " [1.91]\n",
      " [1.94]\n",
      " [1.89]\n",
      " [1.89]]\n",
      "perror: [[1.9 ]\n",
      " [1.91]\n",
      " [1.84]\n",
      " [1.91]\n",
      " [1.92]\n",
      " [1.9 ]\n",
      " [1.88]\n",
      " [1.91]\n",
      " [1.92]\n",
      " [1.91]]\n",
      "ferror: [[1.9 ]\n",
      " [1.91]\n",
      " [1.84]\n",
      " [1.91]\n",
      " [1.92]\n",
      " [1.9 ]\n",
      " [1.88]\n",
      " [1.91]\n",
      " [1.92]\n",
      " [1.91]]\n",
      "perror: [[1.87]\n",
      " [1.92]\n",
      " [1.92]\n",
      " [1.89]\n",
      " [1.94]\n",
      " [1.89]\n",
      " [1.89]\n",
      " [1.88]\n",
      " [1.91]\n",
      " [1.89]]\n",
      "ferror: [[1.87]\n",
      " [1.92]\n",
      " [1.92]\n",
      " [1.89]\n",
      " [1.94]\n",
      " [1.89]\n",
      " [1.89]\n",
      " [1.88]\n",
      " [1.91]\n",
      " [1.89]]\n",
      "perror: [[1.9 ]\n",
      " [1.88]\n",
      " [1.89]\n",
      " [1.92]\n",
      " [1.89]\n",
      " [1.94]\n",
      " [1.89]\n",
      " [1.87]\n",
      " [1.91]\n",
      " [1.91]]\n",
      "ferror: [[1.9 ]\n",
      " [1.88]\n",
      " [1.89]\n",
      " [1.92]\n",
      " [1.89]\n",
      " [1.94]\n",
      " [1.89]\n",
      " [1.87]\n",
      " [1.91]\n",
      " [1.91]]\n"
     ]
    },
    {
     "ename": "KeyboardInterrupt",
     "evalue": "",
     "output_type": "error",
     "traceback": [
      "\u001b[1;31m---------------------------------------------------------------------------\u001b[0m",
      "\u001b[1;31mKeyError\u001b[0m                                  Traceback (most recent call last)",
      "\u001b[1;32m~\\.julia\\conda\\3\\lib\\site-packages\\pandas\\core\\indexes\\base.py\u001b[0m in \u001b[0;36mget_loc\u001b[1;34m(self, key)\u001b[0m\n\u001b[0;32m   3651\u001b[0m         \u001b[1;32mtry\u001b[0m\u001b[1;33m:\u001b[0m\u001b[1;33m\u001b[0m\u001b[1;33m\u001b[0m\u001b[0m\n\u001b[1;32m-> 3652\u001b[1;33m             \u001b[1;32mreturn\u001b[0m \u001b[0mself\u001b[0m\u001b[1;33m.\u001b[0m\u001b[0m_engine\u001b[0m\u001b[1;33m.\u001b[0m\u001b[0mget_loc\u001b[0m\u001b[1;33m(\u001b[0m\u001b[0mcasted_key\u001b[0m\u001b[1;33m)\u001b[0m\u001b[1;33m\u001b[0m\u001b[1;33m\u001b[0m\u001b[0m\n\u001b[0m\u001b[0;32m   3653\u001b[0m         \u001b[1;32mexcept\u001b[0m \u001b[0mKeyError\u001b[0m \u001b[1;32mas\u001b[0m \u001b[0merr\u001b[0m\u001b[1;33m:\u001b[0m\u001b[1;33m\u001b[0m\u001b[1;33m\u001b[0m\u001b[0m\n",
      "\u001b[1;32m~\\.julia\\conda\\3\\lib\\site-packages\\pandas\\_libs\\index.pyx\u001b[0m in \u001b[0;36mpandas._libs.index.IndexEngine.get_loc\u001b[1;34m()\u001b[0m\n",
      "\u001b[1;32m~\\.julia\\conda\\3\\lib\\site-packages\\pandas\\_libs\\index.pyx\u001b[0m in \u001b[0;36mpandas._libs.index.IndexEngine.get_loc\u001b[1;34m()\u001b[0m\n",
      "\u001b[1;32mpandas\\_libs\\hashtable_class_helper.pxi\u001b[0m in \u001b[0;36mpandas._libs.hashtable.PyObjectHashTable.get_item\u001b[1;34m()\u001b[0m\n",
      "\u001b[1;32mpandas\\_libs\\hashtable_class_helper.pxi\u001b[0m in \u001b[0;36mpandas._libs.hashtable.PyObjectHashTable.get_item\u001b[1;34m()\u001b[0m\n",
      "\u001b[1;31mKeyError\u001b[0m: 785",
      "\nThe above exception was the direct cause of the following exception:\n",
      "\u001b[1;31mKeyError\u001b[0m                                  Traceback (most recent call last)",
      "\u001b[1;32m~\\.julia\\conda\\3\\lib\\site-packages\\swifter\\swifter.py\u001b[0m in \u001b[0;36mapply\u001b[1;34m(self, func, axis, raw, result_type, args, **kwds)\u001b[0m\n\u001b[0;32m    417\u001b[0m             \u001b[1;32mwith\u001b[0m \u001b[0msuppress_stdout_stderr_logging\u001b[0m\u001b[1;33m(\u001b[0m\u001b[1;33m)\u001b[0m\u001b[1;33m:\u001b[0m\u001b[1;33m\u001b[0m\u001b[1;33m\u001b[0m\u001b[0m\n\u001b[1;32m--> 418\u001b[1;33m                 \u001b[0mtmp_df\u001b[0m \u001b[1;33m=\u001b[0m \u001b[0mfunc\u001b[0m\u001b[1;33m(\u001b[0m\u001b[0msample\u001b[0m\u001b[1;33m,\u001b[0m \u001b[1;33m*\u001b[0m\u001b[0margs\u001b[0m\u001b[1;33m,\u001b[0m \u001b[1;33m**\u001b[0m\u001b[0mkwds\u001b[0m\u001b[1;33m)\u001b[0m\u001b[1;33m\u001b[0m\u001b[1;33m\u001b[0m\u001b[0m\n\u001b[0m\u001b[0;32m    419\u001b[0m                 \u001b[0msample_df\u001b[0m \u001b[1;33m=\u001b[0m \u001b[0msample\u001b[0m\u001b[1;33m.\u001b[0m\u001b[0mapply\u001b[0m\u001b[1;33m(\u001b[0m\u001b[0mfunc\u001b[0m\u001b[1;33m,\u001b[0m \u001b[0maxis\u001b[0m\u001b[1;33m=\u001b[0m\u001b[0maxis\u001b[0m\u001b[1;33m,\u001b[0m \u001b[0mraw\u001b[0m\u001b[1;33m=\u001b[0m\u001b[0mraw\u001b[0m\u001b[1;33m,\u001b[0m \u001b[0mresult_type\u001b[0m\u001b[1;33m=\u001b[0m\u001b[0mresult_type\u001b[0m\u001b[1;33m,\u001b[0m \u001b[0margs\u001b[0m\u001b[1;33m=\u001b[0m\u001b[0margs\u001b[0m\u001b[1;33m,\u001b[0m \u001b[1;33m**\u001b[0m\u001b[0mkwds\u001b[0m\u001b[1;33m)\u001b[0m\u001b[1;33m\u001b[0m\u001b[1;33m\u001b[0m\u001b[0m\n",
      "\u001b[1;32m~\\AppData\\Local\\Temp/ipykernel_7008/3721157257.py\u001b[0m in \u001b[0;36m<lambda>\u001b[1;34m(r)\u001b[0m\n\u001b[0;32m     42\u001b[0m \u001b[1;33m\u001b[0m\u001b[0m\n\u001b[1;32m---> 43\u001b[1;33m         \u001b[0mresults\u001b[0m \u001b[1;33m=\u001b[0m \u001b[0mdf\u001b[0m\u001b[1;33m.\u001b[0m\u001b[0mswifter\u001b[0m\u001b[1;33m.\u001b[0m\u001b[0mprogress_bar\u001b[0m\u001b[1;33m(\u001b[0m\u001b[1;32mFalse\u001b[0m\u001b[1;33m)\u001b[0m\u001b[1;33m.\u001b[0m\u001b[0mapply\u001b[0m\u001b[1;33m(\u001b[0m\u001b[1;32mlambda\u001b[0m \u001b[0mr\u001b[0m\u001b[1;33m:\u001b[0m \u001b[0mself\u001b[0m\u001b[1;33m.\u001b[0m\u001b[0mbackprop\u001b[0m\u001b[1;33m(\u001b[0m\u001b[0mr\u001b[0m\u001b[1;33m[\u001b[0m\u001b[0min_col\u001b[0m\u001b[1;33m]\u001b[0m\u001b[1;33m,\u001b[0m \u001b[0mr\u001b[0m\u001b[1;33m[\u001b[0m\u001b[0mout_col\u001b[0m\u001b[1;33m]\u001b[0m\u001b[1;33m)\u001b[0m\u001b[1;33m,\u001b[0m \u001b[0maxis\u001b[0m\u001b[1;33m=\u001b[0m\u001b[1;36m1\u001b[0m\u001b[1;33m)\u001b[0m\u001b[1;33m\u001b[0m\u001b[1;33m\u001b[0m\u001b[0m\n\u001b[0m\u001b[0;32m     44\u001b[0m         \u001b[0mresults\u001b[0m \u001b[1;33m=\u001b[0m \u001b[0mnp\u001b[0m\u001b[1;33m.\u001b[0m\u001b[0marray\u001b[0m\u001b[1;33m(\u001b[0m\u001b[0mresults\u001b[0m\u001b[1;33m)\u001b[0m\u001b[1;33m\u001b[0m\u001b[1;33m\u001b[0m\u001b[0m\n",
      "\u001b[1;32m~\\.julia\\conda\\3\\lib\\site-packages\\pandas\\core\\frame.py\u001b[0m in \u001b[0;36m__getitem__\u001b[1;34m(self, key)\u001b[0m\n\u001b[0;32m   3760\u001b[0m                 \u001b[1;32mreturn\u001b[0m \u001b[0mself\u001b[0m\u001b[1;33m.\u001b[0m\u001b[0m_getitem_multilevel\u001b[0m\u001b[1;33m(\u001b[0m\u001b[0mkey\u001b[0m\u001b[1;33m)\u001b[0m\u001b[1;33m\u001b[0m\u001b[1;33m\u001b[0m\u001b[0m\n\u001b[1;32m-> 3761\u001b[1;33m             \u001b[0mindexer\u001b[0m \u001b[1;33m=\u001b[0m \u001b[0mself\u001b[0m\u001b[1;33m.\u001b[0m\u001b[0mcolumns\u001b[0m\u001b[1;33m.\u001b[0m\u001b[0mget_loc\u001b[0m\u001b[1;33m(\u001b[0m\u001b[0mkey\u001b[0m\u001b[1;33m)\u001b[0m\u001b[1;33m\u001b[0m\u001b[1;33m\u001b[0m\u001b[0m\n\u001b[0m\u001b[0;32m   3762\u001b[0m             \u001b[1;32mif\u001b[0m \u001b[0mis_integer\u001b[0m\u001b[1;33m(\u001b[0m\u001b[0mindexer\u001b[0m\u001b[1;33m)\u001b[0m\u001b[1;33m:\u001b[0m\u001b[1;33m\u001b[0m\u001b[1;33m\u001b[0m\u001b[0m\n",
      "\u001b[1;32m~\\.julia\\conda\\3\\lib\\site-packages\\pandas\\core\\indexes\\base.py\u001b[0m in \u001b[0;36mget_loc\u001b[1;34m(self, key)\u001b[0m\n\u001b[0;32m   3653\u001b[0m         \u001b[1;32mexcept\u001b[0m \u001b[0mKeyError\u001b[0m \u001b[1;32mas\u001b[0m \u001b[0merr\u001b[0m\u001b[1;33m:\u001b[0m\u001b[1;33m\u001b[0m\u001b[1;33m\u001b[0m\u001b[0m\n\u001b[1;32m-> 3654\u001b[1;33m             \u001b[1;32mraise\u001b[0m \u001b[0mKeyError\u001b[0m\u001b[1;33m(\u001b[0m\u001b[0mkey\u001b[0m\u001b[1;33m)\u001b[0m \u001b[1;32mfrom\u001b[0m \u001b[0merr\u001b[0m\u001b[1;33m\u001b[0m\u001b[1;33m\u001b[0m\u001b[0m\n\u001b[0m\u001b[0;32m   3655\u001b[0m         \u001b[1;32mexcept\u001b[0m \u001b[0mTypeError\u001b[0m\u001b[1;33m:\u001b[0m\u001b[1;33m\u001b[0m\u001b[1;33m\u001b[0m\u001b[0m\n",
      "\u001b[1;31mKeyError\u001b[0m: 785",
      "\nDuring handling of the above exception, another exception occurred:\n",
      "\u001b[1;31mKeyboardInterrupt\u001b[0m                         Traceback (most recent call last)",
      "\u001b[1;32m~\\AppData\\Local\\Temp/ipykernel_7008/3159053289.py\u001b[0m in \u001b[0;36m<module>\u001b[1;34m\u001b[0m\n\u001b[1;32m----> 1\u001b[1;33m mnn.train(\n\u001b[0m\u001b[0;32m      2\u001b[0m     \u001b[0mdf\u001b[0m \u001b[1;33m=\u001b[0m \u001b[0mmdf\u001b[0m\u001b[1;33m,\u001b[0m \u001b[0min_col\u001b[0m \u001b[1;33m=\u001b[0m \u001b[1;34m'img'\u001b[0m\u001b[1;33m,\u001b[0m \u001b[0mout_col\u001b[0m \u001b[1;33m=\u001b[0m \u001b[1;34m'out'\u001b[0m\u001b[1;33m,\u001b[0m\u001b[1;33m\u001b[0m\u001b[1;33m\u001b[0m\u001b[0m\n\u001b[0;32m      3\u001b[0m     \u001b[0mbatch_size\u001b[0m \u001b[1;33m=\u001b[0m \u001b[1;36m100\u001b[0m\u001b[1;33m,\u001b[0m\u001b[1;33m\u001b[0m\u001b[1;33m\u001b[0m\u001b[0m\n\u001b[0;32m      4\u001b[0m     \u001b[0malpha\u001b[0m \u001b[1;33m=\u001b[0m \u001b[1;36m0.0001\u001b[0m\u001b[1;33m\u001b[0m\u001b[1;33m\u001b[0m\u001b[0m\n\u001b[0;32m      5\u001b[0m )\n",
      "\u001b[1;32m~\\AppData\\Local\\Temp/ipykernel_7008/3721157257.py\u001b[0m in \u001b[0;36mtrain\u001b[1;34m(self, df, in_col, out_col, batch_size, alpha, stopper)\u001b[0m\n\u001b[0;32m     83\u001b[0m             \u001b[0mins\u001b[0m \u001b[1;33m=\u001b[0m \u001b[0msample\u001b[0m\u001b[1;33m[\u001b[0m\u001b[0min_col\u001b[0m\u001b[1;33m]\u001b[0m\u001b[1;33m\u001b[0m\u001b[1;33m\u001b[0m\u001b[0m\n\u001b[0;32m     84\u001b[0m             \u001b[0mouts\u001b[0m \u001b[1;33m=\u001b[0m \u001b[0msample\u001b[0m\u001b[1;33m[\u001b[0m\u001b[0mout_col\u001b[0m\u001b[1;33m]\u001b[0m\u001b[1;33m\u001b[0m\u001b[1;33m\u001b[0m\u001b[0m\n\u001b[1;32m---> 85\u001b[1;33m             \u001b[0madjs\u001b[0m \u001b[1;33m=\u001b[0m \u001b[0mself\u001b[0m\u001b[1;33m.\u001b[0m\u001b[0mprocess_batch\u001b[0m\u001b[1;33m(\u001b[0m\u001b[0msample\u001b[0m\u001b[1;33m,\u001b[0m \u001b[0min_col\u001b[0m\u001b[1;33m,\u001b[0m \u001b[0mout_col\u001b[0m\u001b[1;33m)\u001b[0m\u001b[1;33m\u001b[0m\u001b[1;33m\u001b[0m\u001b[0m\n\u001b[0m\u001b[0;32m     86\u001b[0m \u001b[1;33m\u001b[0m\u001b[0m\n\u001b[0;32m     87\u001b[0m             \u001b[0merr\u001b[0m \u001b[1;33m=\u001b[0m \u001b[0mself\u001b[0m\u001b[1;33m.\u001b[0m\u001b[0mbatch_average_cost\u001b[0m\u001b[1;33m(\u001b[0m\u001b[0mins\u001b[0m\u001b[1;33m,\u001b[0m \u001b[0mouts\u001b[0m\u001b[1;33m)\u001b[0m\u001b[1;33m\u001b[0m\u001b[1;33m\u001b[0m\u001b[0m\n",
      "\u001b[1;32m~\\AppData\\Local\\Temp/ipykernel_7008/3721157257.py\u001b[0m in \u001b[0;36mprocess_batch\u001b[1;34m(self, df, in_field, out_field)\u001b[0m\n\u001b[0;32m     41\u001b[0m         \u001b[0mout_col\u001b[0m \u001b[1;33m=\u001b[0m \u001b[0mdf\u001b[0m\u001b[1;33m.\u001b[0m\u001b[0mcolumns\u001b[0m\u001b[1;33m.\u001b[0m\u001b[0mget_loc\u001b[0m\u001b[1;33m(\u001b[0m\u001b[0mout_field\u001b[0m\u001b[1;33m)\u001b[0m\u001b[1;33m\u001b[0m\u001b[1;33m\u001b[0m\u001b[0m\n\u001b[0;32m     42\u001b[0m \u001b[1;33m\u001b[0m\u001b[0m\n\u001b[1;32m---> 43\u001b[1;33m         \u001b[0mresults\u001b[0m \u001b[1;33m=\u001b[0m \u001b[0mdf\u001b[0m\u001b[1;33m.\u001b[0m\u001b[0mswifter\u001b[0m\u001b[1;33m.\u001b[0m\u001b[0mprogress_bar\u001b[0m\u001b[1;33m(\u001b[0m\u001b[1;32mFalse\u001b[0m\u001b[1;33m)\u001b[0m\u001b[1;33m.\u001b[0m\u001b[0mapply\u001b[0m\u001b[1;33m(\u001b[0m\u001b[1;32mlambda\u001b[0m \u001b[0mr\u001b[0m\u001b[1;33m:\u001b[0m \u001b[0mself\u001b[0m\u001b[1;33m.\u001b[0m\u001b[0mbackprop\u001b[0m\u001b[1;33m(\u001b[0m\u001b[0mr\u001b[0m\u001b[1;33m[\u001b[0m\u001b[0min_col\u001b[0m\u001b[1;33m]\u001b[0m\u001b[1;33m,\u001b[0m \u001b[0mr\u001b[0m\u001b[1;33m[\u001b[0m\u001b[0mout_col\u001b[0m\u001b[1;33m]\u001b[0m\u001b[1;33m)\u001b[0m\u001b[1;33m,\u001b[0m \u001b[0maxis\u001b[0m\u001b[1;33m=\u001b[0m\u001b[1;36m1\u001b[0m\u001b[1;33m)\u001b[0m\u001b[1;33m\u001b[0m\u001b[1;33m\u001b[0m\u001b[0m\n\u001b[0m\u001b[0;32m     44\u001b[0m         \u001b[0mresults\u001b[0m \u001b[1;33m=\u001b[0m \u001b[0mnp\u001b[0m\u001b[1;33m.\u001b[0m\u001b[0marray\u001b[0m\u001b[1;33m(\u001b[0m\u001b[0mresults\u001b[0m\u001b[1;33m)\u001b[0m\u001b[1;33m\u001b[0m\u001b[1;33m\u001b[0m\u001b[0m\n\u001b[0;32m     45\u001b[0m \u001b[1;33m\u001b[0m\u001b[0m\n",
      "\u001b[1;32m~\\.julia\\conda\\3\\lib\\site-packages\\swifter\\swifter.py\u001b[0m in \u001b[0;36mapply\u001b[1;34m(self, func, axis, raw, result_type, args, **kwds)\u001b[0m\n\u001b[0;32m    434\u001b[0m                 \u001b[1;32mreturn\u001b[0m \u001b[0mself\u001b[0m\u001b[1;33m.\u001b[0m\u001b[0m_parallel_apply\u001b[0m\u001b[1;33m(\u001b[0m\u001b[0mfunc\u001b[0m\u001b[1;33m,\u001b[0m \u001b[0maxis\u001b[0m\u001b[1;33m,\u001b[0m \u001b[0mraw\u001b[0m\u001b[1;33m,\u001b[0m \u001b[0mresult_type\u001b[0m\u001b[1;33m,\u001b[0m \u001b[1;33m*\u001b[0m\u001b[0margs\u001b[0m\u001b[1;33m,\u001b[0m \u001b[1;33m**\u001b[0m\u001b[0mkwds\u001b[0m\u001b[1;33m)\u001b[0m\u001b[1;33m\u001b[0m\u001b[1;33m\u001b[0m\u001b[0m\n\u001b[0;32m    435\u001b[0m             \u001b[1;32melse\u001b[0m\u001b[1;33m:\u001b[0m  \u001b[1;31m# use pandas\u001b[0m\u001b[1;33m\u001b[0m\u001b[1;33m\u001b[0m\u001b[0m\n\u001b[1;32m--> 436\u001b[1;33m                 \u001b[1;32mreturn\u001b[0m \u001b[0mself\u001b[0m\u001b[1;33m.\u001b[0m\u001b[0m_pandas_apply\u001b[0m\u001b[1;33m(\u001b[0m\u001b[0mself\u001b[0m\u001b[1;33m.\u001b[0m\u001b[0m_obj\u001b[0m\u001b[1;33m,\u001b[0m \u001b[0mfunc\u001b[0m\u001b[1;33m,\u001b[0m \u001b[0maxis\u001b[0m\u001b[1;33m,\u001b[0m \u001b[0mraw\u001b[0m\u001b[1;33m,\u001b[0m \u001b[0mresult_type\u001b[0m\u001b[1;33m,\u001b[0m \u001b[1;33m*\u001b[0m\u001b[0margs\u001b[0m\u001b[1;33m,\u001b[0m \u001b[1;33m**\u001b[0m\u001b[0mkwds\u001b[0m\u001b[1;33m)\u001b[0m\u001b[1;33m\u001b[0m\u001b[1;33m\u001b[0m\u001b[0m\n\u001b[0m\u001b[0;32m    437\u001b[0m \u001b[1;33m\u001b[0m\u001b[0m\n\u001b[0;32m    438\u001b[0m     \u001b[1;32mdef\u001b[0m \u001b[0m_wrapped_applymap\u001b[0m\u001b[1;33m(\u001b[0m\u001b[0mself\u001b[0m\u001b[1;33m,\u001b[0m \u001b[0mfunc\u001b[0m\u001b[1;33m)\u001b[0m\u001b[1;33m:\u001b[0m\u001b[1;33m\u001b[0m\u001b[1;33m\u001b[0m\u001b[0m\n",
      "\u001b[1;32m~\\.julia\\conda\\3\\lib\\site-packages\\swifter\\swifter.py\u001b[0m in \u001b[0;36m_pandas_apply\u001b[1;34m(self, df, func, axis, raw, result_type, *args, **kwds)\u001b[0m\n\u001b[0;32m    347\u001b[0m             \u001b[0mapply_func\u001b[0m \u001b[1;33m=\u001b[0m \u001b[0mdf\u001b[0m\u001b[1;33m.\u001b[0m\u001b[0mapply\u001b[0m\u001b[1;33m\u001b[0m\u001b[1;33m\u001b[0m\u001b[0m\n\u001b[0;32m    348\u001b[0m \u001b[1;33m\u001b[0m\u001b[0m\n\u001b[1;32m--> 349\u001b[1;33m         \u001b[1;32mreturn\u001b[0m \u001b[0mapply_func\u001b[0m\u001b[1;33m(\u001b[0m\u001b[0mfunc\u001b[0m\u001b[1;33m,\u001b[0m \u001b[0maxis\u001b[0m\u001b[1;33m=\u001b[0m\u001b[0maxis\u001b[0m\u001b[1;33m,\u001b[0m \u001b[0mraw\u001b[0m\u001b[1;33m=\u001b[0m\u001b[0mraw\u001b[0m\u001b[1;33m,\u001b[0m \u001b[0mresult_type\u001b[0m\u001b[1;33m=\u001b[0m\u001b[0mresult_type\u001b[0m\u001b[1;33m,\u001b[0m \u001b[0margs\u001b[0m\u001b[1;33m=\u001b[0m\u001b[0margs\u001b[0m\u001b[1;33m,\u001b[0m \u001b[1;33m**\u001b[0m\u001b[0mkwds\u001b[0m\u001b[1;33m)\u001b[0m\u001b[1;33m\u001b[0m\u001b[1;33m\u001b[0m\u001b[0m\n\u001b[0m\u001b[0;32m    350\u001b[0m \u001b[1;33m\u001b[0m\u001b[0m\n\u001b[0;32m    351\u001b[0m     \u001b[1;32mdef\u001b[0m \u001b[0m_dask_apply\u001b[0m\u001b[1;33m(\u001b[0m\u001b[0mself\u001b[0m\u001b[1;33m,\u001b[0m \u001b[0mdf\u001b[0m\u001b[1;33m,\u001b[0m \u001b[0mfunc\u001b[0m\u001b[1;33m,\u001b[0m \u001b[0maxis\u001b[0m\u001b[1;33m,\u001b[0m \u001b[0mraw\u001b[0m\u001b[1;33m,\u001b[0m \u001b[0mresult_type\u001b[0m\u001b[1;33m,\u001b[0m \u001b[0mmeta\u001b[0m\u001b[1;33m,\u001b[0m \u001b[1;33m*\u001b[0m\u001b[0margs\u001b[0m\u001b[1;33m,\u001b[0m \u001b[1;33m**\u001b[0m\u001b[0mkwds\u001b[0m\u001b[1;33m)\u001b[0m\u001b[1;33m:\u001b[0m\u001b[1;33m\u001b[0m\u001b[1;33m\u001b[0m\u001b[0m\n",
      "\u001b[1;32m~\\.julia\\conda\\3\\lib\\site-packages\\pandas\\core\\frame.py\u001b[0m in \u001b[0;36mapply\u001b[1;34m(self, func, axis, raw, result_type, args, **kwargs)\u001b[0m\n\u001b[0;32m   9421\u001b[0m             \u001b[0mkwargs\u001b[0m\u001b[1;33m=\u001b[0m\u001b[0mkwargs\u001b[0m\u001b[1;33m,\u001b[0m\u001b[1;33m\u001b[0m\u001b[1;33m\u001b[0m\u001b[0m\n\u001b[0;32m   9422\u001b[0m         )\n\u001b[1;32m-> 9423\u001b[1;33m         \u001b[1;32mreturn\u001b[0m \u001b[0mop\u001b[0m\u001b[1;33m.\u001b[0m\u001b[0mapply\u001b[0m\u001b[1;33m(\u001b[0m\u001b[1;33m)\u001b[0m\u001b[1;33m.\u001b[0m\u001b[0m__finalize__\u001b[0m\u001b[1;33m(\u001b[0m\u001b[0mself\u001b[0m\u001b[1;33m,\u001b[0m \u001b[0mmethod\u001b[0m\u001b[1;33m=\u001b[0m\u001b[1;34m\"apply\"\u001b[0m\u001b[1;33m)\u001b[0m\u001b[1;33m\u001b[0m\u001b[1;33m\u001b[0m\u001b[0m\n\u001b[0m\u001b[0;32m   9424\u001b[0m \u001b[1;33m\u001b[0m\u001b[0m\n\u001b[0;32m   9425\u001b[0m     def applymap(\n",
      "\u001b[1;32m~\\.julia\\conda\\3\\lib\\site-packages\\pandas\\core\\apply.py\u001b[0m in \u001b[0;36mapply\u001b[1;34m(self)\u001b[0m\n\u001b[0;32m    676\u001b[0m             \u001b[1;32mreturn\u001b[0m \u001b[0mself\u001b[0m\u001b[1;33m.\u001b[0m\u001b[0mapply_raw\u001b[0m\u001b[1;33m(\u001b[0m\u001b[1;33m)\u001b[0m\u001b[1;33m\u001b[0m\u001b[1;33m\u001b[0m\u001b[0m\n\u001b[0;32m    677\u001b[0m \u001b[1;33m\u001b[0m\u001b[0m\n\u001b[1;32m--> 678\u001b[1;33m         \u001b[1;32mreturn\u001b[0m \u001b[0mself\u001b[0m\u001b[1;33m.\u001b[0m\u001b[0mapply_standard\u001b[0m\u001b[1;33m(\u001b[0m\u001b[1;33m)\u001b[0m\u001b[1;33m\u001b[0m\u001b[1;33m\u001b[0m\u001b[0m\n\u001b[0m\u001b[0;32m    679\u001b[0m \u001b[1;33m\u001b[0m\u001b[0m\n\u001b[0;32m    680\u001b[0m     \u001b[1;32mdef\u001b[0m \u001b[0magg\u001b[0m\u001b[1;33m(\u001b[0m\u001b[0mself\u001b[0m\u001b[1;33m)\u001b[0m\u001b[1;33m:\u001b[0m\u001b[1;33m\u001b[0m\u001b[1;33m\u001b[0m\u001b[0m\n",
      "\u001b[1;32m~\\.julia\\conda\\3\\lib\\site-packages\\pandas\\core\\apply.py\u001b[0m in \u001b[0;36mapply_standard\u001b[1;34m(self)\u001b[0m\n\u001b[0;32m    796\u001b[0m \u001b[1;33m\u001b[0m\u001b[0m\n\u001b[0;32m    797\u001b[0m     \u001b[1;32mdef\u001b[0m \u001b[0mapply_standard\u001b[0m\u001b[1;33m(\u001b[0m\u001b[0mself\u001b[0m\u001b[1;33m)\u001b[0m\u001b[1;33m:\u001b[0m\u001b[1;33m\u001b[0m\u001b[1;33m\u001b[0m\u001b[0m\n\u001b[1;32m--> 798\u001b[1;33m         \u001b[0mresults\u001b[0m\u001b[1;33m,\u001b[0m \u001b[0mres_index\u001b[0m \u001b[1;33m=\u001b[0m \u001b[0mself\u001b[0m\u001b[1;33m.\u001b[0m\u001b[0mapply_series_generator\u001b[0m\u001b[1;33m(\u001b[0m\u001b[1;33m)\u001b[0m\u001b[1;33m\u001b[0m\u001b[1;33m\u001b[0m\u001b[0m\n\u001b[0m\u001b[0;32m    799\u001b[0m \u001b[1;33m\u001b[0m\u001b[0m\n\u001b[0;32m    800\u001b[0m         \u001b[1;31m# wrap results\u001b[0m\u001b[1;33m\u001b[0m\u001b[1;33m\u001b[0m\u001b[1;33m\u001b[0m\u001b[0m\n",
      "\u001b[1;32m~\\.julia\\conda\\3\\lib\\site-packages\\pandas\\core\\apply.py\u001b[0m in \u001b[0;36mapply_series_generator\u001b[1;34m(self)\u001b[0m\n\u001b[0;32m    812\u001b[0m             \u001b[1;32mfor\u001b[0m \u001b[0mi\u001b[0m\u001b[1;33m,\u001b[0m \u001b[0mv\u001b[0m \u001b[1;32min\u001b[0m \u001b[0menumerate\u001b[0m\u001b[1;33m(\u001b[0m\u001b[0mseries_gen\u001b[0m\u001b[1;33m)\u001b[0m\u001b[1;33m:\u001b[0m\u001b[1;33m\u001b[0m\u001b[1;33m\u001b[0m\u001b[0m\n\u001b[0;32m    813\u001b[0m                 \u001b[1;31m# ignore SettingWithCopy here in case the user mutates\u001b[0m\u001b[1;33m\u001b[0m\u001b[1;33m\u001b[0m\u001b[1;33m\u001b[0m\u001b[0m\n\u001b[1;32m--> 814\u001b[1;33m                 \u001b[0mresults\u001b[0m\u001b[1;33m[\u001b[0m\u001b[0mi\u001b[0m\u001b[1;33m]\u001b[0m \u001b[1;33m=\u001b[0m \u001b[0mself\u001b[0m\u001b[1;33m.\u001b[0m\u001b[0mf\u001b[0m\u001b[1;33m(\u001b[0m\u001b[0mv\u001b[0m\u001b[1;33m)\u001b[0m\u001b[1;33m\u001b[0m\u001b[1;33m\u001b[0m\u001b[0m\n\u001b[0m\u001b[0;32m    815\u001b[0m                 \u001b[1;32mif\u001b[0m \u001b[0misinstance\u001b[0m\u001b[1;33m(\u001b[0m\u001b[0mresults\u001b[0m\u001b[1;33m[\u001b[0m\u001b[0mi\u001b[0m\u001b[1;33m]\u001b[0m\u001b[1;33m,\u001b[0m \u001b[0mABCSeries\u001b[0m\u001b[1;33m)\u001b[0m\u001b[1;33m:\u001b[0m\u001b[1;33m\u001b[0m\u001b[1;33m\u001b[0m\u001b[0m\n\u001b[0;32m    816\u001b[0m                     \u001b[1;31m# If we have a view on v, we need to make a copy because\u001b[0m\u001b[1;33m\u001b[0m\u001b[1;33m\u001b[0m\u001b[1;33m\u001b[0m\u001b[0m\n",
      "\u001b[1;32m~\\AppData\\Local\\Temp/ipykernel_7008/3721157257.py\u001b[0m in \u001b[0;36m<lambda>\u001b[1;34m(r)\u001b[0m\n\u001b[0;32m     41\u001b[0m         \u001b[0mout_col\u001b[0m \u001b[1;33m=\u001b[0m \u001b[0mdf\u001b[0m\u001b[1;33m.\u001b[0m\u001b[0mcolumns\u001b[0m\u001b[1;33m.\u001b[0m\u001b[0mget_loc\u001b[0m\u001b[1;33m(\u001b[0m\u001b[0mout_field\u001b[0m\u001b[1;33m)\u001b[0m\u001b[1;33m\u001b[0m\u001b[1;33m\u001b[0m\u001b[0m\n\u001b[0;32m     42\u001b[0m \u001b[1;33m\u001b[0m\u001b[0m\n\u001b[1;32m---> 43\u001b[1;33m         \u001b[0mresults\u001b[0m \u001b[1;33m=\u001b[0m \u001b[0mdf\u001b[0m\u001b[1;33m.\u001b[0m\u001b[0mswifter\u001b[0m\u001b[1;33m.\u001b[0m\u001b[0mprogress_bar\u001b[0m\u001b[1;33m(\u001b[0m\u001b[1;32mFalse\u001b[0m\u001b[1;33m)\u001b[0m\u001b[1;33m.\u001b[0m\u001b[0mapply\u001b[0m\u001b[1;33m(\u001b[0m\u001b[1;32mlambda\u001b[0m \u001b[0mr\u001b[0m\u001b[1;33m:\u001b[0m \u001b[0mself\u001b[0m\u001b[1;33m.\u001b[0m\u001b[0mbackprop\u001b[0m\u001b[1;33m(\u001b[0m\u001b[0mr\u001b[0m\u001b[1;33m[\u001b[0m\u001b[0min_col\u001b[0m\u001b[1;33m]\u001b[0m\u001b[1;33m,\u001b[0m \u001b[0mr\u001b[0m\u001b[1;33m[\u001b[0m\u001b[0mout_col\u001b[0m\u001b[1;33m]\u001b[0m\u001b[1;33m)\u001b[0m\u001b[1;33m,\u001b[0m \u001b[0maxis\u001b[0m\u001b[1;33m=\u001b[0m\u001b[1;36m1\u001b[0m\u001b[1;33m)\u001b[0m\u001b[1;33m\u001b[0m\u001b[1;33m\u001b[0m\u001b[0m\n\u001b[0m\u001b[0;32m     44\u001b[0m         \u001b[0mresults\u001b[0m \u001b[1;33m=\u001b[0m \u001b[0mnp\u001b[0m\u001b[1;33m.\u001b[0m\u001b[0marray\u001b[0m\u001b[1;33m(\u001b[0m\u001b[0mresults\u001b[0m\u001b[1;33m)\u001b[0m\u001b[1;33m\u001b[0m\u001b[1;33m\u001b[0m\u001b[0m\n\u001b[0;32m     45\u001b[0m \u001b[1;33m\u001b[0m\u001b[0m\n",
      "\u001b[1;32m~\\AppData\\Local\\Temp/ipykernel_7008/3721157257.py\u001b[0m in \u001b[0;36mbackprop\u001b[1;34m(self, x, s)\u001b[0m\n\u001b[0;32m     25\u001b[0m         \u001b[0madjustments\u001b[0m \u001b[1;33m=\u001b[0m \u001b[1;33m[\u001b[0m\u001b[1;33m]\u001b[0m\u001b[1;33m\u001b[0m\u001b[1;33m\u001b[0m\u001b[0m\n\u001b[0;32m     26\u001b[0m         \u001b[1;32mfor\u001b[0m \u001b[0mlayer\u001b[0m \u001b[1;32min\u001b[0m \u001b[0mreversed\u001b[0m\u001b[1;33m(\u001b[0m\u001b[0mself\u001b[0m\u001b[1;33m.\u001b[0m\u001b[0mlayers\u001b[0m\u001b[1;33m)\u001b[0m\u001b[1;33m:\u001b[0m\u001b[1;33m\u001b[0m\u001b[1;33m\u001b[0m\u001b[0m\n\u001b[1;32m---> 27\u001b[1;33m             \u001b[0mdC_db\u001b[0m\u001b[1;33m,\u001b[0m \u001b[0mdC_dA\u001b[0m\u001b[1;33m,\u001b[0m \u001b[0mdC_dx\u001b[0m \u001b[1;33m=\u001b[0m \u001b[0mlayer\u001b[0m\u001b[1;33m.\u001b[0m\u001b[0mbackprop\u001b[0m\u001b[1;33m(\u001b[0m\u001b[0mdC_dz\u001b[0m\u001b[1;33m)\u001b[0m\u001b[1;33m\u001b[0m\u001b[1;33m\u001b[0m\u001b[0m\n\u001b[0m\u001b[0;32m     28\u001b[0m \u001b[1;33m\u001b[0m\u001b[0m\n\u001b[0;32m     29\u001b[0m             \u001b[0mdb\u001b[0m \u001b[1;33m=\u001b[0m \u001b[0mnp\u001b[0m\u001b[1;33m.\u001b[0m\u001b[0mdivide\u001b[0m\u001b[1;33m(\u001b[0m\u001b[0mdC\u001b[0m\u001b[1;33m,\u001b[0m \u001b[0mdC_db\u001b[0m\u001b[1;33m,\u001b[0m \u001b[0mout\u001b[0m \u001b[1;33m=\u001b[0m \u001b[0mnp\u001b[0m\u001b[1;33m.\u001b[0m\u001b[0mzeros_like\u001b[0m\u001b[1;33m(\u001b[0m\u001b[0mdC_db\u001b[0m\u001b[1;33m)\u001b[0m\u001b[1;33m,\u001b[0m \u001b[0mwhere\u001b[0m \u001b[1;33m=\u001b[0m \u001b[0mdC_db\u001b[0m \u001b[1;33m!=\u001b[0m \u001b[1;36m0\u001b[0m\u001b[1;33m)\u001b[0m\u001b[1;33m\u001b[0m\u001b[1;33m\u001b[0m\u001b[0m\n",
      "\u001b[1;32m~\\AppData\\Local\\Temp/ipykernel_7008/3627527740.py\u001b[0m in \u001b[0;36mbackprop\u001b[1;34m(self, dC_dz)\u001b[0m\n\u001b[0;32m     42\u001b[0m         \u001b[1;32mfor\u001b[0m \u001b[0mc\u001b[0m \u001b[1;32min\u001b[0m \u001b[0mrange\u001b[0m\u001b[1;33m(\u001b[0m\u001b[1;36m0\u001b[0m\u001b[1;33m,\u001b[0m \u001b[0mself\u001b[0m\u001b[1;33m.\u001b[0m\u001b[0minputs\u001b[0m\u001b[1;33m)\u001b[0m\u001b[1;33m:\u001b[0m\u001b[1;33m\u001b[0m\u001b[1;33m\u001b[0m\u001b[0m\n\u001b[0;32m     43\u001b[0m             \u001b[1;32mfor\u001b[0m \u001b[0mr\u001b[0m \u001b[1;32min\u001b[0m \u001b[0mrange\u001b[0m\u001b[1;33m(\u001b[0m\u001b[1;36m0\u001b[0m\u001b[1;33m,\u001b[0m \u001b[0mself\u001b[0m\u001b[1;33m.\u001b[0m\u001b[0moutputs\u001b[0m\u001b[1;33m)\u001b[0m\u001b[1;33m:\u001b[0m\u001b[1;33m\u001b[0m\u001b[1;33m\u001b[0m\u001b[0m\n\u001b[1;32m---> 44\u001b[1;33m                 \u001b[0mdC_dx\u001b[0m\u001b[1;33m[\u001b[0m\u001b[0mc\u001b[0m\u001b[1;33m]\u001b[0m\u001b[1;33m[\u001b[0m\u001b[1;36m0\u001b[0m\u001b[1;33m]\u001b[0m \u001b[1;33m+=\u001b[0m \u001b[0mdC_dy\u001b[0m\u001b[1;33m[\u001b[0m\u001b[0mr\u001b[0m\u001b[1;33m]\u001b[0m\u001b[1;33m[\u001b[0m\u001b[1;36m0\u001b[0m\u001b[1;33m]\u001b[0m \u001b[1;33m*\u001b[0m \u001b[0mself\u001b[0m\u001b[1;33m.\u001b[0m\u001b[0mA\u001b[0m\u001b[1;33m[\u001b[0m\u001b[0mr\u001b[0m\u001b[1;33m]\u001b[0m\u001b[1;33m[\u001b[0m\u001b[0mc\u001b[0m\u001b[1;33m]\u001b[0m\u001b[1;33m\u001b[0m\u001b[1;33m\u001b[0m\u001b[0m\n\u001b[0m\u001b[0;32m     45\u001b[0m \u001b[1;33m\u001b[0m\u001b[0m\n\u001b[0;32m     46\u001b[0m         \u001b[1;32mreturn\u001b[0m \u001b[0mdC_db\u001b[0m\u001b[1;33m,\u001b[0m \u001b[0mdC_dA\u001b[0m\u001b[1;33m,\u001b[0m \u001b[0mdC_dx\u001b[0m\u001b[1;33m\u001b[0m\u001b[1;33m\u001b[0m\u001b[0m\n",
      "\u001b[1;31mKeyboardInterrupt\u001b[0m: "
     ]
    }
   ],
   "source": [
    "mnn.train(\n",
    "    df = mdf, in_col = 'img', out_col = 'out',\n",
    "    batch_size = 100,\n",
    "    alpha = 0.0001\n",
    ")"
   ]
  },
  {
   "cell_type": "code",
   "execution_count": null,
   "metadata": {},
   "outputs": [],
   "source": [
    "mnn.backprop()"
   ]
  },
  {
   "cell_type": "code",
   "execution_count": null,
   "metadata": {},
   "outputs": [],
   "source": []
  }
 ],
 "metadata": {
  "kernelspec": {
   "display_name": "Python 3 (ipykernel)",
   "language": "python",
   "name": "python3"
  },
  "language_info": {
   "codemirror_mode": {
    "name": "ipython",
    "version": 3
   },
   "file_extension": ".py",
   "mimetype": "text/x-python",
   "name": "python",
   "nbconvert_exporter": "python",
   "pygments_lexer": "ipython3",
   "version": "3.9.5"
  }
 },
 "nbformat": 4,
 "nbformat_minor": 4
}
