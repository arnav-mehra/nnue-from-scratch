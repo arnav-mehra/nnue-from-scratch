{
 "cells": [
  {
   "cell_type": "code",
   "execution_count": null,
   "id": "11abaeee-1775-443d-8416-ac546d19725e",
   "metadata": {},
   "outputs": [],
   "source": [
    "import chess\n",
    "import numpy as np\n",
    "import pandas as pd\n",
    "import numexpr as ne\n",
    "import swifter\n",
    "import statsmodels.api as sm\n",
    "import pylab\n",
    "import sys"
   ]
  },
  {
   "cell_type": "code",
   "execution_count": null,
   "id": "c39a9bb7-1628-4155-8014-1164fd48410d",
   "metadata": {},
   "outputs": [],
   "source": [
    "df = pd.read_parquet(\"./random_evals_processed.parquet\")\n",
    "df.head(1)"
   ]
  },
  {
   "cell_type": "code",
   "execution_count": null,
   "id": "2fd7acf8-128a-4b59-8b00-a6a5b586691e",
   "metadata": {},
   "outputs": [],
   "source": [
    "df_filt = df[~((df['Evaluation'] == -318) | (df['Evaluation'] == 318))]\n",
    "mask = np.random.rand(len(df_filt)) < 0.8\n",
    "train = df_filt[mask]\n",
    "test = df_filt[~mask]"
   ]
  },
  {
   "cell_type": "code",
   "execution_count": null,
   "id": "1b9735e9-1622-4b03-b9f7-c8f2c918a32b",
   "metadata": {},
   "outputs": [],
   "source": [
    "from sklearn.linear_model import LinearRegression\n",
    "X = list(train['Bits'])\n",
    "y = list(train['Evaluation'])\n",
    "reg = LinearRegression(fit_intercept = False).fit(X, y)"
   ]
  },
  {
   "cell_type": "code",
   "execution_count": null,
   "id": "e8ac392d-60b3-497d-a9a6-cfbd23d69d52",
   "metadata": {},
   "outputs": [],
   "source": [
    "X_test = list(test['Bits'])\n",
    "y_test = list(test['Evaluation'])\n",
    "reg.score(X_test, y_test)"
   ]
  },
  {
   "cell_type": "code",
   "execution_count": null,
   "id": "b39aff65-e94f-4f4e-ace7-545cf68b3d34",
   "metadata": {},
   "outputs": [],
   "source": [
    "regme = LinearRegression(fit_intercept = False).fit(\n",
    "    [\n",
    "        [1,0,0,0,0],\n",
    "        [0,1,0,0,0],\n",
    "        [0,0,1,0,0],\n",
    "        [0,0,0,1,0],\n",
    "        [0,0,0,0,1],\n",
    "    ],\n",
    "    [ 1, 3, 3.5, 5, 10 ]\n",
    ")\n",
    "regme.score(X_test, y_test)"
   ]
  },
  {
   "cell_type": "code",
   "execution_count": null,
   "id": "c099a3b2-b8fa-4950-9251-1dc2c200d780",
   "metadata": {},
   "outputs": [],
   "source": [
    "def get_val(pc):\n",
    "    os = 64 * (pc - 1)\n",
    "    idx_range = range(os + 8, os + 56) if pc == chess.PAWN else range(os, os + 64)\n",
    "    n = 48 if pc == chess.PAWN else 64\n",
    "    v = sum(reg.coef_[idx_range]) / n\n",
    "    return v\n",
    "\n",
    "def norm_val(v):\n",
    "    pv = get_val(chess.PAWN)\n",
    "    return v / pv # 8 * (v - pv) / (qv - pv) + 1\n",
    "\n",
    "def get_norm_val(pc):\n",
    "    return norm_val(get_val(pc))\n",
    "\n",
    "def print_sqs(pc):\n",
    "    avg_val = get_norm_val(pc)\n",
    "    print(\"AVG VAL: \", avg_val)\n",
    "\n",
    "    os = 64 * (pc - 1)\n",
    "    arr = reg.coef_[os : os + 64]\n",
    "#     arr = [ norm_val(x) - avg_val for x in arr ]\n",
    "    for i in range(0, 64):\n",
    "        print(int(arr[i] * 10) / 10, end=\"\\t\")\n",
    "        if i % 8 == 7:\n",
    "            print()"
   ]
  },
  {
   "cell_type": "code",
   "execution_count": null,
   "id": "a9bc3328-c9c0-40e2-a1f2-5f697399aa22",
   "metadata": {},
   "outputs": [],
   "source": [
    "get_norm_val(chess.KING)"
   ]
  },
  {
   "cell_type": "code",
   "execution_count": null,
   "id": "9e638688-bf35-4978-b0c9-cdddaac21d6c",
   "metadata": {},
   "outputs": [],
   "source": [
    "# print sq loss\n",
    "y_pred = reg.predict(X_test)\n",
    "y_delta = np.absolute(y_pred - y_test)\n",
    "y_dsq = y_delta * y_delta\n",
    "sum(y_delta) / len(y_delta)"
   ]
  }
 ],
 "metadata": {
  "kernelspec": {
   "display_name": "Python 3 (ipykernel)",
   "language": "python",
   "name": "python3"
  },
  "language_info": {
   "codemirror_mode": {
    "name": "ipython",
    "version": 3
   },
   "file_extension": ".py",
   "mimetype": "text/x-python",
   "name": "python",
   "nbconvert_exporter": "python",
   "pygments_lexer": "ipython3",
   "version": "3.9.18"
  }
 },
 "nbformat": 4,
 "nbformat_minor": 5
}
